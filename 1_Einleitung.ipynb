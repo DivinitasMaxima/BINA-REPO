{
  "nbformat": 4,
  "nbformat_minor": 0,
  "metadata": {
    "colab": {
      "provenance": [],
      "authorship_tag": "ABX9TyNG4WswoPIecF9cDaLzJR/9",
      "include_colab_link": true
    },
    "kernelspec": {
      "name": "python3",
      "display_name": "Python 3"
    },
    "language_info": {
      "name": "python"
    }
  },
  "cells": [
    {
      "cell_type": "markdown",
      "metadata": {
        "id": "view-in-github",
        "colab_type": "text"
      },
      "source": [
        "<a href=\"https://colab.research.google.com/github/DivinitasMaxima/BINA-REPO/blob/main/1_Einleitung.ipynb\" target=\"_parent\"><img src=\"https://colab.research.google.com/assets/colab-badge.svg\" alt=\"Open In Colab\"/></a>"
      ]
    },
    {
      "cell_type": "markdown",
      "source": [
        "<h1 style=\"color: black; text-align: left;\"><b>1. Einleitung</b></h1>\n",
        "<p style=\"font-size: 16px; line-height: 1.5;\">\n",
        "Die Kundenzufriedenheit spielt eine zentrale Rolle in der wettbewerbsintensiven Luftfahrtbranche. Fluggäste erwarten nicht nur eine sichere und pünktliche Beförderung, sondern auch einen exzellenten Service, der ihr Reiseerlebnis positiv beeinflusst. Gerade auf Flugreisen ist die Kundschaft besonders sensibel für die Qualität des angebotenen Services, sei es aufgrund der hohen Ticketpreise oder der unterbewussten Anspannung während des Flugs. Kleine Details im Service können sich summieren und erheblichen Einfluss auf die Wahrnehmung und Zufriedenheit der Passagiere haben. (International, 2014).\n",
        "</p>\n",
        "<hr>\n",
        "<h2 style=\"color: black;\"><b>1.1 Die Unternehmung</b></h2>\n",
        "<p>\n",
        "<b>AeroMarketing Solutions AG </b> verfolgt das Ziel, Fluggesellschaften dabei zu unterstützen, die Kundenzufriedenheit nachhaltig zu verbessern. Dazu ist es unerlässlich, die zentralen Faktoren zu bestimmen, die das Reiseerlebnis der Passagiere positiv oder negativ beeinflussen können.\n",
        "</p>\n",
        "<p>\n",
        "Durch den Einsatz datenbasierter Analysen unterstützt AeroMarketing Solutions AG Fluggesellschaften bei der Optimierung ihres Services und ihrer betrieblichen Abläufe.\n",
        "</p>\n",
        "<hr>\n",
        "<h2 style=\"color: black;\"><b>1.2 Der Auftraggeber</b></h2>\n",
        "<p>\n",
        "Invistico Airlines ist eine fiktive Fluggesellschaft, die in den letzten Jahren einen stetigen Rückgang der Passagierzahlen zu verzeichnen hat. Um die Ursache zu identifizieren und gezielte Verbesserungsmassnahmen einzuleiten, führt das Unternehmen mit Hilfe einer externen Unternehmung eine umfassende Kundenzufriedenheitsbefragung durch. Die Externe Unternehmung AeroMarketing Solutions AG wird beauftragt die Daten zu analysieren. Ziel ist es, Schwachstellen zu identifizieren und entsprechende Optimierungen vorzunehmen, um die Kundenzufriedenheit zu erhöhen und verlorene Kunden zurückzugewinnen.\n",
        "<hr>\n",
        "<h2 style=\"color: black;\"><b>1.3 Fragestellungen</b></h2>\n",
        "<p>\n",
        "<ol>\n",
        "    <li>Welche Faktoren haben den grössten Einfluss auf die Kundenzufriedenheit bei <b>Invistico Airline</b>?</li>\n",
        "    <li>Welche Faktoren beeinflussen Flugverspätungen in der Luftbranche am stärksten?</li>\n",
        "    <li>Welche Merkmale haben den grössten Einfluss auf die Kundenzufriedenheit im Flugverkehr, und wie zuverlässig kann diese Zufriedenheit mithilfe von maschinellen Lernmodellen vorhergesagt werden?</li>\n",
        "</ol>\n",
        "<h2 style=\"color: black;\">Ein eingebettetes Bild</h2>\n",
        "<img src=\"https://img.freepik.com/premium-vector/man-woman-waiting-takeoff-airport-terminal_82574-9843.jpg?ga=GA1.1.211010343.1746078893&semt=ais_hybrid&w=740\" alt=\"airport picture\" width=\"600\">\n",
        "<hr>"
      ],
      "metadata": {
        "id": "-H4cEEjzHTDi"
      }
    },
    {
      "cell_type": "code",
      "execution_count": null,
      "metadata": {
        "id": "XUB_Xuf_HQv8"
      },
      "outputs": [],
      "source": []
    }
  ]
}