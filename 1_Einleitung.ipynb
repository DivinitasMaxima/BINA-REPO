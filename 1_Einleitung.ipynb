{
  "nbformat": 4,
  "nbformat_minor": 0,
  "metadata": {
    "colab": {
      "provenance": [],
      "include_colab_link": true
    },
    "kernelspec": {
      "name": "python3",
      "display_name": "Python 3"
    },
    "language_info": {
      "name": "python"
    }
  },
  "cells": [
    {
      "cell_type": "markdown",
      "metadata": {
        "id": "view-in-github",
        "colab_type": "text"
      },
      "source": [
        "<a href=\"https://colab.research.google.com/github/DivinitasMaxima/BINA-REPO/blob/main/1_Einleitung.ipynb\" target=\"_parent\"><img src=\"https://colab.research.google.com/assets/colab-badge.svg\" alt=\"Open In Colab\"/></a>"
      ]
    },
    {
      "cell_type": "markdown",
      "source": [
        "<h1 style=\"color: black; text-align: left;\"><b>1. Einleitung</b></h1>\n",
        "<p style=\"font-size: 16px; line-height: 1.5;\">\n",
        "Die Kundenzufriedenheit spielt eine zentrale Rolle in der wettbewerbsintensiven Luftfahrtbranche. Fluggäste erwarten nicht nur eine sichere und pünktliche Beförderung, sondern auch einen exzellenten Service, der ihr Reiseerlebnis positiv beeinflusst. Gerade auf Flugreisen ist die Kundschaft besonders sensibel für die Qualität des angebotenen Services, sei es aufgrund der hohen Ticketpreise oder der unterbewussten Anspannung während des Flugs. Kleine Details im Service können sich summieren und erheblichen Einfluss auf die Wahrnehmung und Zufriedenheit der Passagiere haben. (International, 2014).\n",
        "</p>\n",
        "<hr>\n",
        "\n",
        "<h2 style=\"color: black;\"><b>1.1 Der Auftraggeber</b></h2>\n",
        "<p>\n",
        "<p style=\"font-size: 16px; line-height: 1.5;\">Invistico Airlines ist eine fiktive Fluggesellschaft, die in den letzten Jahren einen stetigen Rückgang der Passagierzahlen zu verzeichnen hat. Um die Ursache zu identifizieren und gezielte Verbesserungsmassnahmen einzuleiten, führt das Unternehmen mit Hilfe einer externen Unternehmung eine umfassende Kundenzufriedenheitsbefragung durch. Die Unternehmung AeroMarketing Solutions AG wird beauftragt die Daten zu analysieren.</p>\n",
        "</p>\n",
        "<hr>\n",
        "<h2 style=\"color: black;\"><b>1.2 Die Unternehmung</b></h2>\n",
        "<p>\n",
        "<p style=\"font-size: 16px; line-height: 1.5;\"><b>AeroMarketing Solutions AG </b> verfolgt das Ziel, Fluggesellschaften dabei zu unterstützen, die Kundenzufriedenheit nachhaltig zu verbessern. Dazu ist es unerlässlich, die zentralen Faktoren zu bestimmen, die das Reiseerlebnis der Passagiere positiv oder negativ beeinflussen können.</p>\n",
        "</p>\n",
        "<p>\n",
        "<p style=\"font-size: 16px; line-height: 1.5;\">Durch den Einsatz datenbasierter Analysen unterstützt AeroMarketing Solutions AG Fluggesellschaften bei der Optimierung ihres Services und ihrer betrieblichen Abläufe.</p>\n",
        "</p>\n",
        "<p>\n",
        "<p style=\"font-size: 16px; line-height: 1.5;\">Um das Kundenerlebnis des Auftraggebers systematisch zu optimieren, setzt AeroMarketing Solutions AG auf Bernard Marrs fünfstufigen Ansatz zur datengetriebenen Entscheidungsfindung. Dieser methodische Ansatz ermöglicht es, fundierte Entscheidungen zu treffen und gezielte Massnahmen zur Verbesserung der Kundenzufriedenheit zu ergreifen. Die vorliegende Arbeit untersucht diesen Prozess detailliert und konzentriert sich dabei auf die ersten vier der fünf Schritte von Marrs (2020):\n",
        "<ol>\n",
        "    <li>Ziel und Informationsbedarf definieren (Kapitel 2): Hier werden die Hauptziele festgelegt, die als Grundlage für die weiteren Analysen dienen.</li>\n",
        "    <li>Daten sammeln (Kapitel 3): Dieser Abschnitt behandelt die verschiedenen Aspekte der Datenerhebung, darunter Datenquellen, Datenqualität, Datenbereinigung und Datenmodellierung.</li>\n",
        "    <li>Daten analysieren (Kapitel 4): Die gesammelten und aufbereiteten Daten werden analysiert, um fundierte Erkenntnisse zu gewinnen.</li>\n",
        "    <li>Informationen präsentieren (Kapitel 6): Die Analyseergebnisse werden strukturiert aufbereitet und visualisiert, um eine fundierte Entscheidungsgrundlage zu schaffen.</li>\n",
        "</ol></p>\n",
        "<p style=\"font-size: 16px; line-height: 1.5;\">Der fünfte Schritt, datengestützte Entscheidungen treffen, wird in dieser Arbeit nicht umgesetzt, da er nicht Teil der Aufgabenstellung ist.</p>\n",
        "</p>\n",
        "<img src=\"https://img.freepik.com/premium-vector/man-woman-waiting-takeoff-airport-terminal_82574-9843.jpg?ga=GA1.1.211010343.1746078893&semt=ais_hybrid&w=740\" alt=\"airport picture\" width=\"600\">\n",
        "<hr>"
      ],
      "metadata": {
        "id": "-H4cEEjzHTDi"
      }
    }
  ]
}