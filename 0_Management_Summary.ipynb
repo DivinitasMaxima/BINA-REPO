{
  "nbformat": 4,
  "nbformat_minor": 0,
  "metadata": {
    "colab": {
      "provenance": [],
      "include_colab_link": true
    },
    "kernelspec": {
      "name": "python3",
      "display_name": "Python 3"
    },
    "language_info": {
      "name": "python"
    }
  },
  "cells": [
    {
      "cell_type": "markdown",
      "metadata": {
        "id": "view-in-github",
        "colab_type": "text"
      },
      "source": [
        "<a href=\"https://colab.research.google.com/github/DivinitasMaxima/BINA-REPO/blob/main/0_Management_Summary.ipynb\" target=\"_parent\"><img src=\"https://colab.research.google.com/assets/colab-badge.svg\" alt=\"Open In Colab\"/></a>"
      ]
    },
    {
      "cell_type": "markdown",
      "source": [
        "<h1 style=\"color: black; text-align: left;\"><b>Management Summary</b></h1>\n",
        "<p style=\"font-size: 16px; line-height: 1.5;\">\n",
        "Die vorliegende Arbeit wurde mit dem Ziel erstellt, die Kundenzufriedenheit in der Luftfahrtindustrie, insbesondere bei der fiktiven Fluggesellschaft Invistico Airlines, zu verbessern. Dies sollte durch den gezielten Einsatz datenbasierter Analysen erfolgen. In der Arbeit wurden verschiedene Methoden angewendet, um die zentralen Einflussfaktoren auf das Reiseerlebnis der Passagiere zu identifizieren und konkrete Handlungsempfehlungen abzuleiten.\n",
        "\n",
        "AeroMarketing Solutions AG wurde von Invistico Airlines beauftragt, eine umfassende Untersuchung zur Steigerung der Kundenzufriedenheit durchzuführen. Der Prozess folgte einem fünfstufigen Ansatz zur datengetriebenen Entscheidungsfindung. In der vorliegenden Arbeit wurden die ersten vier Schritte dieses Modells behandelt: Zunächst wurden die wesentlichen Ziele der Analyse formuliert, die die Grundlage für die weiteren Schritte bildeten. Im nächsten Schritt wurden verschiedene Datenquellen genutzt, um relevante Informationen über das Passagiererlebnis zu erheben. Dabei wurde besonderer Wert auf die Qualität und Modellierung der gesammelten Daten gelegt. Im Anschluss daran wurden die gesammelten Daten gründlich analysiert, um relevante Muster und Einflussfaktoren auf die Kundenzufriedenheit zu identifizieren. Die Ergebnisse der Datenanalyse wurden schliesslich strukturiert und visuell aufbereitet, um den Entscheidungsträgern klare Handlungsempfehlungen zu geben.\n",
        "\n",
        "Die Ergebnisse der Analyse zeigten, dass Faktoren wie Pünktlichkeit, Komfort und der Service an Bord einen erheblichen Einfluss auf die Kundenzufriedenheit haben. Darüber hinaus hatten Zusatzservices und die Effizienz der Betriebsabläufe, insbesondere der Check-in-Prozess, einen direkten Einfluss auf das Passagiererlebnis. Es wurde festgestellt, dass besonders die Reaktionsgeschwindigkeit des Personals und die Qualität der Zusatzleistungen als positiv wahrgenommen werden, wenn sie den Erwartungen der Kunden entsprechen. Weiter hat die Analyse gezeigt, dass auch Verspätungen einen erheblichen Einfluss auf die Kundenzufriedenheit haben und häufig zu Frustration bei den Passagieren führen. Insbesondere stellt man Verspätungen bei Flughäfen mit hoher Auslastung, sowie bei Abflugzeit am späteren Nachmittag und Abend fest.\n",
        "\n",
        "Durch die gezielte Anwendung datenbasierter Analysen kann die Invistico Airlines ihre Kundenzufriedenheit signifikant verbessern. AeroMarketing Solutions AG hat durch diese Arbeit wertvolle Einsichten geliefert, die als Grundlage für zukünftige Optimierungsmassnahmen dienen können.\n",
        "</p>"
      ],
      "metadata": {
        "id": "btxg329JAEzH"
      }
    }
  ]
}