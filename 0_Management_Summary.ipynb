{
  "nbformat": 4,
  "nbformat_minor": 0,
  "metadata": {
    "colab": {
      "provenance": [],
      "authorship_tag": "ABX9TyOwiRG1iaGtVt/tIEfNZEPR",
      "include_colab_link": true
    },
    "kernelspec": {
      "name": "python3",
      "display_name": "Python 3"
    },
    "language_info": {
      "name": "python"
    }
  },
  "cells": [
    {
      "cell_type": "markdown",
      "metadata": {
        "id": "view-in-github",
        "colab_type": "text"
      },
      "source": [
        "<a href=\"https://colab.research.google.com/github/DivinitasMaxima/BINA-REPO/blob/main/0_Management_Summary.ipynb\" target=\"_parent\"><img src=\"https://colab.research.google.com/assets/colab-badge.svg\" alt=\"Open In Colab\"/></a>"
      ]
    },
    {
      "cell_type": "markdown",
      "source": [
        "<h1 style=\"color: blue; text-align: center;\"><b>Management Summary</b></h1>\n",
        "<p style=\"font-size: 16px; line-height: 1.5;\">\n",
        "Hier kommt der Text rein\n",
        "</p>"
      ],
      "metadata": {
        "id": "btxg329JAEzH"
      }
    }
  ]
}