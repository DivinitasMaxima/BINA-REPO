{
  "nbformat": 4,
  "nbformat_minor": 0,
  "metadata": {
    "colab": {
      "provenance": [],
      "include_colab_link": true
    },
    "kernelspec": {
      "name": "python3",
      "display_name": "Python 3"
    },
    "language_info": {
      "name": "python"
    }
  },
  "cells": [
    {
      "cell_type": "markdown",
      "metadata": {
        "id": "view-in-github",
        "colab_type": "text"
      },
      "source": [
        "<a href=\"https://colab.research.google.com/github/DivinitasMaxima/BINA-REPO/blob/main/2_Ziel_und_Informationsbedarf.ipynb\" target=\"_parent\"><img src=\"https://colab.research.google.com/assets/colab-badge.svg\" alt=\"Open In Colab\"/></a>"
      ]
    },
    {
      "cell_type": "markdown",
      "source": [
        "<h1 style=\"color: black; text-align: left;\"><b>2. Ziel und Informationsbedarf definieren</b></h1>\n",
        "<p style=\"font-size: 16px; line-height: 1.5;\">\n",
        "Die Case Study dient als praxisnahes Beispiel, um die im Kurs vermittelten Konzepte und Methoden in einem realitätsnahen Kontext zu erproben. Durch die aktive Auseinandersetzung mit der Fallstudie werden die Studierenden dazu befähigt, ihr Wissen gezielt anzuwenden, komplexe Zusammenhänge zu erkennen und fundierte Entscheidungen zu treffen.\n",
        "Die Verbindung von Theorie und Praxis ist ein essenzieller Bestandteil des Lernprozesses.\n",
        "</p>\n",
        "<hr>\n",
        "<h2 style=\"color: black;\"><b>2.1 Ziele</b></h2>\n",
        "<p>\n",
        "Invistico Airlines verfolgt das strategische Ziel, die Kundenzufriedenheit kontinuierlich zu verbessern, um sich im hart umkämpften Luftverkehrsmarkt erfolgreich zu behaupten. Angesichts sinkender Passagierzahlen hat das Unternehmen die AeroMarketing Solutions AG damit beauftragt, eine umfassende Datenanalyse durchzuführen, um die Ursachen für die Unzufriedenheit der Kunden besser zu verstehen und gezielte Optimierungsmöglichkeiten zu identifizieren.\n",
        "\n",
        "Die AeroMarketing Solutions AG setzt hierzu einen datenbasierten Analyseansatz ein, um fundierte Erkenntnisse über das Reiseverhalten, die Servicewahrnehmung sowie betriebliche Faktoren zu gewinnen. Ziel ist es, Entscheidungsträgern bei Invistico Airlines belastbare Grundlagen für wirkungsvolle Massnahmen zur Verfügung zu stellen, die sowohl das Reiseerlebnis verbessern als auch betriebliche Effizienzpotenziale aufzeigen.\n",
        "\n",
        "Konkret stehen folgende zentrale Fragestellungen im Fokus der Analyse:\n",
        "\n",
        "<ol>\n",
        "    <li>Welche Faktoren haben den grössten Einfluss auf die Kundenzufriedenheit bei der Invistico Airline?</li>\n",
        "    <li>Welche Faktoren beeinflussen Flugverspätungen am meisten?</li>\n",
        "    <li>dritte Frage bzgl. Modell</li>\n",
        "</ol>\n",
        "\n",
        "<h2 style=\"color: black;\"><b>2.2 Informationsbedarf</b></h2>\n",
        "<p>\n",
        "Das Team der AeroMarketing hat bedient sich für die Umsetzung der Fallstudie hauptsächlich öffentlich zugänglicher Datenquellen. Sie bieten eine Vielzahl an Analysemöglichkeiten, welche für die Case Study von Bedeutung sind.\n",
        "</p>"
      ],
      "metadata": {
        "id": "HJ2VbqvqEWkL"
      }
    }
  ]
}