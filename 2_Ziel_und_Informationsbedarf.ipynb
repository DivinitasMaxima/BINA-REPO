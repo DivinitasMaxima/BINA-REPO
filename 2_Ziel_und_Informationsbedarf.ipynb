{
  "nbformat": 4,
  "nbformat_minor": 0,
  "metadata": {
    "colab": {
      "provenance": [],
      "authorship_tag": "ABX9TyOoX/imhhXftNzWHX/oNzRB",
      "include_colab_link": true
    },
    "kernelspec": {
      "name": "python3",
      "display_name": "Python 3"
    },
    "language_info": {
      "name": "python"
    }
  },
  "cells": [
    {
      "cell_type": "markdown",
      "metadata": {
        "id": "view-in-github",
        "colab_type": "text"
      },
      "source": [
        "<a href=\"https://colab.research.google.com/github/DivinitasMaxima/BINA-REPO/blob/main/2_Ziel_und_Informationsbedarf.ipynb\" target=\"_parent\"><img src=\"https://colab.research.google.com/assets/colab-badge.svg\" alt=\"Open In Colab\"/></a>"
      ]
    },
    {
      "cell_type": "markdown",
      "source": [
        "<h1 style=\"color: black; text-align: left;\"><b>2. Ziel und Informationsbedarf definieren</b></h1>\n",
        "<p style=\"font-size: 16px; line-height: 1.5;\">\n",
        "Die Case Study dient als praxisnahes Beispiel, um die im Kurs vermittelten Konzepte und Methoden in einem realitätsnahen Kontext zu erproben. Durch die aktive Auseinandersetzung mit der Fallstudie werden die Studierenden dazu befähigt, ihr Wissen gezielt anzuwenden, komplexe Zusammenhänge zu erkennen und fundierte Entscheidungen zu treffen.\n",
        "Die Verbindung von Theorie und Praxis ist ein essenzieller Bestandteil des Lernprozesses.\n",
        "</p>\n",
        "<hr>\n",
        "<h2 style=\"color: black;\"><b>2.1 Ziele</b></h2>\n",
        "<p>\n",
        "Die Invistico Airlines verfolgt das Ziel, die Kundenzufriedenheit kontinuierlich zu verbessern, um sich im hart umkämpften Luftverkehrsmarkt erfolgreich zu behaupten. Dazu ist es notwendig, die wesentlichen Einflussfaktoren zu identifizieren, die das Reiseerlebnis der Passagiere positiv oder negativ beeinflussen. Ein datenbasierter Ansatz ermöglicht es, fundierte Entscheidungen zur Optimierung des Services und der betrieblichen Abläufe zu treffen.\n",
        "</p>\n",
        "<p>\n",
        "Im Rahmen dieser Projektarbeit sollen daher folgende zentrale Fragen untersucht werden:\n",
        "\n",
        "<ol>\n",
        "    <li>Welche Faktoren haben den grössten Einfluss auf die Kundenzufriedenheit bei der American Airline im Luftverkehr?</li>\n",
        "    <li>Welche Faktoren beeinflussen Flugverspätungen bei der American Airline am meisten?</li>\n",
        "    <li>Wie variieren Passagieraufkommen und Flugverkehr bei der American Airlines über Zeit und Regionen hinweg, und welche Auswirkungen hat dies auf die Kundenzufriedenheit?</li>\n",
        "</ol>\n",
        "\n",
        "<h2 style=\"color: black;\"><b>2.2 Informationsbedarf</b></h2>\n",
        "<p>\n",
        "Das Team der AeroMarketing hat bedient sich für die Umsetzung der Fallstudie hauptsächlich öffentlich zugänglicher Datenquellen. Sie bieten eine Vielzahl an Analysemöglichkeiten, welche für die Case Study von Bedeutung sind.\n",
        "</p>"
      ],
      "metadata": {
        "id": "HJ2VbqvqEWkL"
      }
    },
    {
      "cell_type": "code",
      "execution_count": null,
      "metadata": {
        "id": "7rPzvkJJEO13"
      },
      "outputs": [],
      "source": []
    }
  ]
}