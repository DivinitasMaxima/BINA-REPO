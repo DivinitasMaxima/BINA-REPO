{
  "nbformat": 4,
  "nbformat_minor": 0,
  "metadata": {
    "colab": {
      "provenance": [],
      "authorship_tag": "ABX9TyNbPtUMrdGsszMiZorcX6QI",
      "include_colab_link": true
    },
    "kernelspec": {
      "name": "python3",
      "display_name": "Python 3"
    },
    "language_info": {
      "name": "python"
    }
  },
  "cells": [
    {
      "cell_type": "markdown",
      "metadata": {
        "id": "view-in-github",
        "colab_type": "text"
      },
      "source": [
        "<a href=\"https://colab.research.google.com/github/DivinitasMaxima/BINA-REPO/blob/main/2_Ziel_und_Informationsbedarf.ipynb\" target=\"_parent\"><img src=\"https://colab.research.google.com/assets/colab-badge.svg\" alt=\"Open In Colab\"/></a>"
      ]
    },
    {
      "cell_type": "markdown",
      "source": [
        "<h1 style=\"color: black; text-align: left;\"><b>2. Ziel und Informationsbedarf definieren</b></h1>\n",
        "<p style=\"font-size: 16px; line-height: 1.5;\">\n",
        "In diesem Kapitel wird die fiktive Case Study als zentrales Instrument zur Anwendung und Vertiefung der theoretischen Grundlagen aus dem Kurs BINA vorgestellt. Die Case Study dient als praxisnahes Beispiel, um die im Kurs vermittelten Konzepte und Methoden in einem realitätsnahen Kontext zu erproben. Durch die aktive Auseinandersetzung mit der Fallstudie werden die Studierenden dazu befähigt, ihr Wissen gezielt anzuwenden, komplexe Zusammenhänge zu erkennen und fundierte Entscheidungen zu treffen.\n",
        "Die Verbindung von Theorie und Praxis ist ein essenzieller Bestandteil des Lernprozesses.\n",
        "</p>\n",
        "<hr>\n",
        "<h2 style=\"color: black;\"><b>2.1 Ziele</b></h2>\n",
        "<h3 style=\"color: black;\">Welche Faktoren haben den größten Einfluss auf die Kundenzufriedenheit im Luftverkehr?</h3>\n",
        "<p>\n",
        "Hier ein kurze Erläuterung weshalb das ein wichtiges Ziel ist, was ist die Relevanz für den Auftraggaber?\n",
        "</p>\n",
        "<h3 style=\"color: black;\">Welche Faktoren beeinflussen Flugverspätungen am stärksten</h3>\n",
        "<p>\n",
        "Hier ein kurze Erläuterung weshalb das ein wichtiges Ziel ist, was ist die Relevanz für den Auftraggaber?\n",
        "</p>\n",
        "<h3 style=\"color: black;\">Wie variieren Passagieraufkommen und Flugverkehr über Zeit und Regionen hinweg, und welche Auswirkungen hat dies auf die Kundenzufriedenheit?</h3>\n",
        "\n",
        "<h2 style=\"color: black;\"><b>2.1 Informationsbedarfe</b></h2>"
      ],
      "metadata": {
        "id": "HJ2VbqvqEWkL"
      }
    },
    {
      "cell_type": "code",
      "execution_count": null,
      "metadata": {
        "id": "7rPzvkJJEO13"
      },
      "outputs": [],
      "source": []
    }
  ]
}