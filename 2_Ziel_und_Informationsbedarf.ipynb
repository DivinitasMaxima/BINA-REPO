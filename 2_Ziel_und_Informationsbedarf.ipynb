{
  "nbformat": 4,
  "nbformat_minor": 0,
  "metadata": {
    "colab": {
      "provenance": [],
      "include_colab_link": true
    },
    "kernelspec": {
      "name": "python3",
      "display_name": "Python 3"
    },
    "language_info": {
      "name": "python"
    }
  },
  "cells": [
    {
      "cell_type": "markdown",
      "metadata": {
        "id": "view-in-github",
        "colab_type": "text"
      },
      "source": [
        "<a href=\"https://colab.research.google.com/github/DivinitasMaxima/BINA-REPO/blob/main/2_Ziel_und_Informationsbedarf.ipynb\" target=\"_parent\"><img src=\"https://colab.research.google.com/assets/colab-badge.svg\" alt=\"Open In Colab\"/></a>"
      ]
    },
    {
      "cell_type": "markdown",
      "source": [
        "<h1 style=\"color: black; text-align: left;\"><b>2. Ziel und Rahmenbedingungen definieren</b></h1>\n",
        "<p style=\"font-size: 16px; line-height: 1.5;\">\n",
        "Die Case Study dient als praxisnahes Beispiel, um die im Kurs vermittelten Konzepte und Methoden in einem realitätsnahen Kontext zu erproben. Durch die aktive Auseinandersetzung mit der Fallstudie werden die Studierenden dazu befähigt, ihr Wissen gezielt anzuwenden, komplexe Zusammenhänge zu erkennen und fundierte Entscheidungen zu treffen.\n",
        "Die Verbindung von Theorie und Praxis ist ein essenzieller Bestandteil des Lernprozesses.\n",
        "</p>\n",
        "<hr>\n",
        "<h2 style=\"color: black;\"><b>2.1 Ziele</b></h2>\n",
        "<p>\n",
        "<p style=\"font-size: 16px; line-height: 1.5;\">Invistico Airlines verfolgt das strategische Ziel, die Kundenzufriedenheit kontinuierlich zu verbessern, um sich im hart umkämpften Luftverkehrsmarkt erfolgreich zu behaupten. Angesichts sinkender Passagierzahlen hat das Unternehmen die AeroMarketing Solutions AG damit beauftragt, eine umfassende Datenanalyse durchzuführen, um die Ursachen für die Unzufriedenheit der Kunden besser zu verstehen und gezielte Optimierungsmöglichkeiten zu identifizieren.</p>\n",
        "\n",
        "<p style=\"font-size: 16px; line-height: 1.5;\">Die AeroMarketing Solutions AG setzt hierzu einen datenbasierten Analyseansatz ein, um fundierte Erkenntnisse über das Reiseverhalten, die Servicewahrnehmung sowie betriebliche Faktoren zu gewinnen. Ziel ist es, Entscheidungsträgern bei Invistico Airlines belastbare Grundlagen für wirkungsvolle Massnahmen zur Verfügung zu stellen, die sowohl das Reiseerlebnis verbessern als auch betriebliche Effizienzpotenziale aufzeigen.</p>\n",
        "\n",
        "<p style=\"font-size: 16px; line-height: 1.5;\">Konkret stehen folgende zentrale Fragestellungen im Fokus der Analyse:\n",
        "\n",
        "<ol>\n",
        "    <li>Welche Faktoren haben den grössten Einfluss auf die Kundenzufriedenheit bei der Invistico Airline?</li>\n",
        "    <li>Welche Faktoren beeinflussen Flugverspätungen am meisten?</li>\n",
        "    <li>Wie genau kann ein Machine-Learning-Modell die Kundenzufriedenheit bei Flugreisen auf Basis ausgewählter Kunden- und Reisedaten vorhersagen?</li>\n",
        "</ol>\n",
        "</p>\n",
        "\n",
        "<h2 style=\"color: black;\"><b>2.3 Rahmenbedingungen</b></h2>\n",
        "<p>\n",
        "<p style=\"font-size: 16px; line-height: 1.5;\"> Da reale Kundenzufriedenheitsdaten von Fluggesellschaften in der Regel nicht öffentlich zugänglich sind, wurde im Rahmen dieses Projekts auf frei verfügbare, (fiktive) Datensätze zurückgegriffen. Diese Datensätze bilden oder simulieren reale Flug- und Kundendaten und ermöglicht dadurch eine exemplarische Analyse unter praxisnahen Bedingungen, ohne jedoch einen direkten Bezug zu tatsächlichen Fluggesellschaften herzustellen.<br> Für die grafische Aufbereitung der Analyseergebnisse wurde der Standard der International Business Communication Standards (IBCS) angewendet. Dieser stellt sicher, dass Diagramme konsistent, verständlich und entscheidungsorientiert gestaltet sind. Die Einhaltung dieses Standards trägt zur professionellen Darstellung und besseren Vergleichbarkeit der Resultate bei. </p>"
      ],
      "metadata": {
        "id": "HJ2VbqvqEWkL"
      }
    }
  ]
}