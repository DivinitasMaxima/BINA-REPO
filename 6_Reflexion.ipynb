{
  "nbformat": 4,
  "nbformat_minor": 0,
  "metadata": {
    "colab": {
      "provenance": [],
      "authorship_tag": "ABX9TyOAA4sRwmtMm6ncVc3TtgEE",
      "include_colab_link": true
    },
    "kernelspec": {
      "name": "python3",
      "display_name": "Python 3"
    },
    "language_info": {
      "name": "python"
    }
  },
  "cells": [
    {
      "cell_type": "markdown",
      "metadata": {
        "id": "view-in-github",
        "colab_type": "text"
      },
      "source": [
        "<a href=\"https://colab.research.google.com/github/DivinitasMaxima/BINA-REPO/blob/main/6_Reflexion.ipynb\" target=\"_parent\"><img src=\"https://colab.research.google.com/assets/colab-badge.svg\" alt=\"Open In Colab\"/></a>"
      ]
    },
    {
      "cell_type": "markdown",
      "source": [
        "<h1 style=\"color: black; text-align: left;\"><b>6. Reflexion</b></h1>\n",
        "<p style=\"font-size: 16px; line-height: 1.5;\">Die Zusammenarbeit im Team verlief durchweg positiv und war von einem konstruktiven Miteinander geprägt. Zu Beginn standen wir jedoch vor der Herausforderung, geeignete Datensätze und passende Fragestellungen zu finden. Die von uns ursprünglich angestrebten Daten waren in der gewünschten Form nicht verfügbar, was insbesondere Fragen zur Datenqualität und der Authentizität der Datensätze – ob es sich um reale oder synthetische Daten handelt – aufwarf. Nach einigen Diskussionen und Recherchen haben wir uns jedoch bewusst dazu entschieden, den besten verfügbaren Datensatz auszuwählen und die Analyse mit den vorhandenen Mitteln zu starten. Dieser pragmatische Ansatz hat sich im weiteren Verlauf als zielführend erwiesen.</p>\n",
        "\n",
        "<p style=\"font-size: 16px; line-height: 1.5;\">Eine weitere Herausforderung bestand darin, die Arbeit schrittweise mit einem klaren roten Faden aufzubauen. Da die einzelnen Analyseschritte inhaltlich aufeinander aufbauten, war eine enge Abstimmung erforderlich, um die Kohärenz der Arbeit sicherzustellen. Trotz dieser Herausforderung ist es uns gelungen, die Analyse strukturiert und zielgerichtet voranzutreiben.</p>\n",
        "\n",
        "<p style=\"font-size: 16px; line-height: 1.5;\">Besonders hervorzuheben ist die gelungene Zusammenarbeit im Team, das sich durch unterschiedliche Vorkenntnisse auszeichnete. Während einige Teammitglieder bereits Erfahrung mit Datenanalysen und Programmierung hatten, waren andere in diesem Bereich noch unerfahren. Dennoch konnte jeder seine individuellen Stärken einbringen und zum Erfolg der Arbeit beitragen. Der Wissensaustausch im Team war sehr wertvoll und hat dazu geführt, dass auch weniger erfahrene Mitglieder neue Kompetenzen entwickeln konnten.</p>\n",
        "\n",
        "<p style=\"font-size: 16px; line-height: 1.5;\">Abschliessend lässt sich festhalten, dass die Projektarbeit nicht nur unsere fachlichen Kenntnisse im Bereich der Datenanalyse vertieft, sondern auch unsere Team- und Kommunikationsfähigkeiten gestärkt hat. Die gemeinsame Arbeit an einem komplexen Thema mit einem klaren Ergebnis war eine bereichernde Erfahrung.\n",
        "</p>\n"
      ],
      "metadata": {
        "id": "HUJIKjAouMHz"
      }
    }
  ]
}
