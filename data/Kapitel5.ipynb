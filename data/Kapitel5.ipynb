{
 "cells": [
  {
   "cell_type": "markdown",
   "id": "f27785ef",
   "metadata": {},
   "source": [
    "In diesem Abschnitt des Codes werden sämtliche erforderlichen Bibliotheken importiert, die für die Datenverarbeitung, Visualisierung sowie die Modellierung notwendig sind. Dabei kommen pandas und numpy zum Einsatz, um eine effiziente Datenmanipulation sowie numerische Berechnungen durchzuführen. Für die grafische Darstellung von Daten werden matplotlib.pyplot und seaborn verwendet, die eine anschauliche Visualisierung in Form von Diagrammen ermöglichen. Um die Ausgabe übersichtlich zu halten, wird zudem das warnings-Modul eingebunden, mit dem sich Warnmeldungen unterdrücken lassen. Schließlich wird sklearn genutzt, um verschiedene Aufgaben im Bereich des maschinellen Lernens umzusetzen, darunter die Aufteilung von Datensätzen, die Vorverarbeitung der Daten, das Training von Modellen sowie deren anschließende Bewertung."
   ]
  },
  {
   "cell_type": "code",
   "execution_count": 46,
   "id": "7220fc8e",
   "metadata": {},
   "outputs": [],
   "source": [
    "import pandas as pd\n",
    "import numpy as np\n",
    "import matplotlib.pyplot as plt\n",
    "import seaborn as sns\n",
    "import warnings\n",
    "warnings.filterwarnings(\"ignore\")\n",
    "\n",
    "\n",
    "\n",
    "\n",
    "# Sklearn Tools\n",
    "from sklearn.model_selection import train_test_split\n",
    "from sklearn.preprocessing import LabelEncoder, StandardScaler\n",
    "from sklearn.ensemble import RandomForestClassifier\n",
    "from sklearn.metrics import classification_report, confusion_matrix, roc_auc_score, roc_curve, recall_score\n"
   ]
  },
  {
   "cell_type": "markdown",
   "id": "d92a0836",
   "metadata": {},
   "source": [
    "In diesem Abschnitt wird zunächst die CSV-Datei mit den Airline-Bewertungen eingelesen und als DataFrame gespeichert. Anschließend erfolgt eine erste Exploration der Datenstruktur, um einen grundlegenden Überblick zu gewinnen. Mit df.shape wird die Dimension des DataFrames ermittelt, also wie viele Zeilen (Beobachtungen) und Spalten (Variablen) vorliegen. Die Funktion df.columns.tolist() listet alle Spaltennamen auf und ermöglicht so einen schnellen Einblick in die verfügbaren Variablen. Schließlich zeigt df.head() die ersten fünf Zeilen des Datensatzes an, was eine schnelle visuelle Einschätzung der Dateninhalte und -formate erlaubt.\n",
    "\n",
    "Ziel dieses Schrittes ist es, ein grundlegendes Verständnis für den Aufbau des Datensatzes zu erlangen sowie potenziell relevante Variablen für die spätere Analyse und Modellierung zu identifizieren."
   ]
  },
  {
   "cell_type": "code",
   "execution_count": 47,
   "id": "af0966b2",
   "metadata": {},
   "outputs": [
    {
     "name": "stdout",
     "output_type": "stream",
     "text": [
      "📊 Shape: (129487, 23)\n",
      "🧾 Spalten:\n",
      " ['satisfaction', 'Gender', 'Customer Type', 'Age', 'Type of Travel', 'Class', 'Flight Distance', 'Seat comfort', 'Departure/Arrival time convenient', 'Food and drink', 'Gate location', 'Inflight wifi service', 'Inflight entertainment', 'Online support', 'Ease of Online booking', 'On-board service', 'Leg room service', 'Baggage handling', 'Checkin service', 'Cleanliness', 'Online boarding', 'Departure Delay in Minutes', 'Arrival Delay in Minutes']\n",
      "\n",
      "🔍 Vorschau:\n"
     ]
    },
    {
     "data": {
      "text/html": [
       "<div>\n",
       "<style scoped>\n",
       "    .dataframe tbody tr th:only-of-type {\n",
       "        vertical-align: middle;\n",
       "    }\n",
       "\n",
       "    .dataframe tbody tr th {\n",
       "        vertical-align: top;\n",
       "    }\n",
       "\n",
       "    .dataframe thead th {\n",
       "        text-align: right;\n",
       "    }\n",
       "</style>\n",
       "<table border=\"1\" class=\"dataframe\">\n",
       "  <thead>\n",
       "    <tr style=\"text-align: right;\">\n",
       "      <th></th>\n",
       "      <th>satisfaction</th>\n",
       "      <th>Gender</th>\n",
       "      <th>Customer Type</th>\n",
       "      <th>Age</th>\n",
       "      <th>Type of Travel</th>\n",
       "      <th>Class</th>\n",
       "      <th>Flight Distance</th>\n",
       "      <th>Seat comfort</th>\n",
       "      <th>Departure/Arrival time convenient</th>\n",
       "      <th>Food and drink</th>\n",
       "      <th>...</th>\n",
       "      <th>Online support</th>\n",
       "      <th>Ease of Online booking</th>\n",
       "      <th>On-board service</th>\n",
       "      <th>Leg room service</th>\n",
       "      <th>Baggage handling</th>\n",
       "      <th>Checkin service</th>\n",
       "      <th>Cleanliness</th>\n",
       "      <th>Online boarding</th>\n",
       "      <th>Departure Delay in Minutes</th>\n",
       "      <th>Arrival Delay in Minutes</th>\n",
       "    </tr>\n",
       "  </thead>\n",
       "  <tbody>\n",
       "    <tr>\n",
       "      <th>0</th>\n",
       "      <td>satisfied</td>\n",
       "      <td>Female</td>\n",
       "      <td>Loyal Customer</td>\n",
       "      <td>65</td>\n",
       "      <td>Personal Travel</td>\n",
       "      <td>Eco</td>\n",
       "      <td>265</td>\n",
       "      <td>0</td>\n",
       "      <td>0</td>\n",
       "      <td>0</td>\n",
       "      <td>...</td>\n",
       "      <td>2</td>\n",
       "      <td>3</td>\n",
       "      <td>3</td>\n",
       "      <td>0</td>\n",
       "      <td>3</td>\n",
       "      <td>5</td>\n",
       "      <td>3</td>\n",
       "      <td>2</td>\n",
       "      <td>0</td>\n",
       "      <td>0.0</td>\n",
       "    </tr>\n",
       "    <tr>\n",
       "      <th>1</th>\n",
       "      <td>satisfied</td>\n",
       "      <td>Male</td>\n",
       "      <td>Loyal Customer</td>\n",
       "      <td>47</td>\n",
       "      <td>Personal Travel</td>\n",
       "      <td>Business</td>\n",
       "      <td>2464</td>\n",
       "      <td>0</td>\n",
       "      <td>0</td>\n",
       "      <td>0</td>\n",
       "      <td>...</td>\n",
       "      <td>2</td>\n",
       "      <td>3</td>\n",
       "      <td>4</td>\n",
       "      <td>4</td>\n",
       "      <td>4</td>\n",
       "      <td>2</td>\n",
       "      <td>3</td>\n",
       "      <td>2</td>\n",
       "      <td>310</td>\n",
       "      <td>305.0</td>\n",
       "    </tr>\n",
       "    <tr>\n",
       "      <th>2</th>\n",
       "      <td>satisfied</td>\n",
       "      <td>Female</td>\n",
       "      <td>Loyal Customer</td>\n",
       "      <td>15</td>\n",
       "      <td>Personal Travel</td>\n",
       "      <td>Eco</td>\n",
       "      <td>2138</td>\n",
       "      <td>0</td>\n",
       "      <td>0</td>\n",
       "      <td>0</td>\n",
       "      <td>...</td>\n",
       "      <td>2</td>\n",
       "      <td>2</td>\n",
       "      <td>3</td>\n",
       "      <td>3</td>\n",
       "      <td>4</td>\n",
       "      <td>4</td>\n",
       "      <td>4</td>\n",
       "      <td>2</td>\n",
       "      <td>0</td>\n",
       "      <td>0.0</td>\n",
       "    </tr>\n",
       "    <tr>\n",
       "      <th>3</th>\n",
       "      <td>satisfied</td>\n",
       "      <td>Female</td>\n",
       "      <td>Loyal Customer</td>\n",
       "      <td>60</td>\n",
       "      <td>Personal Travel</td>\n",
       "      <td>Eco</td>\n",
       "      <td>623</td>\n",
       "      <td>0</td>\n",
       "      <td>0</td>\n",
       "      <td>0</td>\n",
       "      <td>...</td>\n",
       "      <td>3</td>\n",
       "      <td>1</td>\n",
       "      <td>1</td>\n",
       "      <td>0</td>\n",
       "      <td>1</td>\n",
       "      <td>4</td>\n",
       "      <td>1</td>\n",
       "      <td>3</td>\n",
       "      <td>0</td>\n",
       "      <td>0.0</td>\n",
       "    </tr>\n",
       "    <tr>\n",
       "      <th>4</th>\n",
       "      <td>satisfied</td>\n",
       "      <td>Female</td>\n",
       "      <td>Loyal Customer</td>\n",
       "      <td>70</td>\n",
       "      <td>Personal Travel</td>\n",
       "      <td>Eco</td>\n",
       "      <td>354</td>\n",
       "      <td>0</td>\n",
       "      <td>0</td>\n",
       "      <td>0</td>\n",
       "      <td>...</td>\n",
       "      <td>4</td>\n",
       "      <td>2</td>\n",
       "      <td>2</td>\n",
       "      <td>0</td>\n",
       "      <td>2</td>\n",
       "      <td>4</td>\n",
       "      <td>2</td>\n",
       "      <td>5</td>\n",
       "      <td>0</td>\n",
       "      <td>0.0</td>\n",
       "    </tr>\n",
       "  </tbody>\n",
       "</table>\n",
       "<p>5 rows × 23 columns</p>\n",
       "</div>"
      ],
      "text/plain": [
       "  satisfaction  Gender   Customer Type  Age   Type of Travel     Class  \\\n",
       "0    satisfied  Female  Loyal Customer   65  Personal Travel       Eco   \n",
       "1    satisfied    Male  Loyal Customer   47  Personal Travel  Business   \n",
       "2    satisfied  Female  Loyal Customer   15  Personal Travel       Eco   \n",
       "3    satisfied  Female  Loyal Customer   60  Personal Travel       Eco   \n",
       "4    satisfied  Female  Loyal Customer   70  Personal Travel       Eco   \n",
       "\n",
       "   Flight Distance  Seat comfort  Departure/Arrival time convenient  \\\n",
       "0              265             0                                  0   \n",
       "1             2464             0                                  0   \n",
       "2             2138             0                                  0   \n",
       "3              623             0                                  0   \n",
       "4              354             0                                  0   \n",
       "\n",
       "   Food and drink  ...  Online support  Ease of Online booking  \\\n",
       "0               0  ...               2                       3   \n",
       "1               0  ...               2                       3   \n",
       "2               0  ...               2                       2   \n",
       "3               0  ...               3                       1   \n",
       "4               0  ...               4                       2   \n",
       "\n",
       "   On-board service  Leg room service  Baggage handling  Checkin service  \\\n",
       "0                 3                 0                 3                5   \n",
       "1                 4                 4                 4                2   \n",
       "2                 3                 3                 4                4   \n",
       "3                 1                 0                 1                4   \n",
       "4                 2                 0                 2                4   \n",
       "\n",
       "   Cleanliness  Online boarding  Departure Delay in Minutes  \\\n",
       "0            3                2                           0   \n",
       "1            3                2                         310   \n",
       "2            4                2                           0   \n",
       "3            1                3                           0   \n",
       "4            2                5                           0   \n",
       "\n",
       "   Arrival Delay in Minutes  \n",
       "0                       0.0  \n",
       "1                     305.0  \n",
       "2                       0.0  \n",
       "3                       0.0  \n",
       "4                       0.0  \n",
       "\n",
       "[5 rows x 23 columns]"
      ]
     },
     "metadata": {},
     "output_type": "display_data"
    }
   ],
   "source": [
    "\n",
    "## Datensatz 1\n",
    "# Daten laden\n",
    "#url = \"https://raw.githubusercontent.com/DivinitasMaxima/BINA-REPO/refs/heads/main/data/data/Invistico_Airline.csv\"\n",
    "df = pd.read_csv(url)\n",
    "df.dropna(inplace=True)\n",
    "\n",
    "## Datensatz 2\n",
    "#df = pd.read_csv(\"data/airline_review.csv\")  # Pfad ggf. anpassen\n",
    "\n",
    "print(\"📊 Shape:\", df.shape)\n",
    "print(\"🧾 Spalten:\\n\", df.columns.tolist())\n",
    "print(\"\\n🔍 Vorschau:\")\n",
    "display(df.head())"
   ]
  },
  {
   "cell_type": "markdown",
   "id": "3d259a9f",
   "metadata": {},
   "source": [
    "In diesem Abschnitt wird zunächst die Zielvariable für das Klassifikationsmodell vorbereitet. Die Spalte Overall_Rating, welche die allgemeine Bewertung durch Kund:innen widerspiegelt, wird in eine numerische Form überführt, was eine grundlegende Voraussetzung für jede Art von Analyse darstellt. Im Anschluss daran werden sämtliche Zeilen mit fehlenden Werten in dieser Spalte entfernt, da unvollständige Bewertungen keine verlässlichen Aussagen über die Kundenzufriedenheit erlauben.\n",
    "\n",
    "Daraufhin wird eine binäre Zielvariable namens satisfied erstellt: Bewertungen mit einem Wert von 7 oder höher werden als zufrieden klassifiziert (Wert = 1), während alle anderen als unzufrieden gelten (Wert = 0). Die Wahl der Schwelle bei 7 basiert auf etablierten Verfahren aus der Sentiment-Analyse und Umfrageforschung, wie beispielsweise dem Net Promoter Score (NPS), bei dem Bewertungen ab 7 typischerweise als positiv interpretiert werden. Diese binäre Klassifikation erleichtert die Anwendung von Klassifikationsmodellen, da sie eine klare Trennung zwischen den beiden Zielgruppen ermöglicht.\n",
    "\n",
    "Im zweiten Schritt wird die Verteilung der Zielvariable mittels eines Countplots visualisiert. Diese Darstellung gibt direkt Aufschluss darüber, ob das Datenset ausbalanciert ist – also ob ungefähr gleich viele zufriedene (1) und unzufriedene (0) Kunden enthalten sind. Ein mögliches Ungleichgewicht in der Klassenverteilung wäre ein kritischer Aspekt für das Modelltraining, da es zu Verzerrungen in der Vorhersage führen kann."
   ]
  },
  {
   "cell_type": "code",
   "execution_count": 48,
   "id": "8c93e004",
   "metadata": {},
   "outputs": [
    {
     "data": {
      "image/png": "[encoded data removed]",
      "text/plain": [
       "<Figure size 640x480 with 1 Axes>"
      ]
     },
     "metadata": {},
     "output_type": "display_data"
    },
    {
     "name": "stdout",
     "output_type": "stream",
     "text": [
      "🧍‍♂️ Anzahl unzufriedene Passagiere (0): 58605\n",
      "🧍‍♀️ Anzahl zufriedene Passagiere (1): 70882\n"
     ]
    }
   ],
   "source": [
    "# Overall Rating in numerisch umwandeln (z. B. '9' → 9.0)\n",
    "\n",
    "#Erstes Datenset\n",
    "df['satisfaction'] = df['satisfaction'].map({'satisfied': 1, 'dissatisfied': 0})\n",
    "df['satisfaction'] = pd.to_numeric(df['satisfaction'], errors='coerce')\n",
    "\n",
    "#Zweites Datenset\n",
    "#df['Overall_Rating'] = pd.to_numeric(df['Overall_Rating'], errors='coerce')\n",
    "\n",
    "# Fehlende Bewertungen entfernen\n",
    "\n",
    "df = df.dropna(subset=['satisfaction'])\n",
    "\n",
    "#df = df.dropna(subset=['Overall_Rating'])\n",
    "\n",
    "# Zielvariable definieren: 1 = zufrieden (>=7), 0 = unzufrieden\n",
    "\n",
    "#Erstes Datenset\n",
    "\n",
    "df['satisfied'] = df['satisfaction'].apply(lambda x: 1 if x == 1 else 0)\n",
    "\n",
    "#Zweites Datenset\n",
    "#df['satisfied'] = df['Overall_Rating'].apply(lambda x: 1 if x >= 7 else 0)\n",
    "\n",
    "# Übersicht der Verteilung\n",
    "sns.countplot(data=df, x='satisfied')\n",
    "plt.title(\"Verteilung der Zielvariable: Kundenzufriedenheit\")\n",
    "plt.xlabel(\"satisfied (1 = ja, 0 = nein)\")\n",
    "plt.show()\n",
    "\n",
    "count_satisfied = df['satisfied'].value_counts()\n",
    "print(\"🧍‍♂️ Anzahl unzufriedene Passagiere (0):\", count_satisfied[0])\n",
    "print(\"🧍‍♀️ Anzahl zufriedene Passagiere (1):\", count_satisfied[1])\n"
   ]
  },
  {
   "cell_type": "markdown",
   "id": "31611a57",
   "metadata": {},
   "source": [
    "In diesem Abschnitt wird die Bedeutung einzelner Merkmale anhand der vom Random-Forest-Modell berechneten Feature Importance analysiert und in Form eines Balkendiagramms visualisiert. Der Random Forest bewertet dabei für jedes Feature, welchen Beitrag es zur Reduktion des Vorhersagefehlers innerhalb der Entscheidungsbäume leistet. Je höher dieser Beitrag, desto größer ist die ermittelte Wichtigkeit des jeweiligen Merkmals für die Modellentscheidung. Die grafische Darstellung der Wichtigkeitswerte erleichtert es, auf einen Blick zu erkennen, welche Variablen entscheidend zur Modellleistung beitragen und welche weniger relevant sind.\n",
    "\n",
    "Diese Analyse ist aus mehreren Gründen von zentraler Bedeutung: Zum einen ermöglicht sie den gezielten Fokus auf besonders relevante Merkmale, die sowohl für die Modelloptimierung als auch für strategische Geschäftsentscheidungen weiterverwendet werden sollten. Zum anderen unterstützt sie die sogenannte Feature Selection, also das gezielte Entfernen wenig bedeutender Merkmale, was zur Effizienzsteigerung und Vereinfachung des Modells beitragen kann. Darüber hinaus verbessert die Kenntnis der wichtigsten Einflussfaktoren die Interpretierbarkeit und Transparenz des Modells – ein besonders wertvoller Aspekt bei erklärbaren maschinellen Lernverfahren.\n",
    "\n",
    "Eine interessante Beobachtung ergibt sich bei der Analyse der Merkmale „Seat Type“ und „Seat Comfort“. Obwohl diese Variablen konzeptuell eng miteinander verknüpft erscheinen – da der Sitzkomfort in der Regel mit der gewählten Sitzklasse zusammenhängt – zeigen sie unterschiedliche Bedeutungswerte im Modell. Dies lässt sich dadurch erklären, dass „Seat Type“ eine eher objektive, kategorische Variable darstellt (z. B. Economy, Business), während „Seat Comfort“ eine subjektive Einschätzung widerspiegelt, die innerhalb derselben Sitzklasse stark variieren kann. Für das Modell scheint daher die persönliche Bewertung des Komforts ein direkterer Indikator für die Zufriedenheit zu sein als die allgemeine Sitzkategorie.\n",
    "\n",
    "Ein weiteres auffälliges Ergebnis betrifft die geringe Bedeutung der Airline-Verifizierung. Dieses Merkmal trägt kaum zur Modellentscheidung bei, was möglicherweise darauf zurückzuführen ist, dass im vorliegenden Datensatz nahezu ausschließlich verifizierte Airlines vertreten sind. In einem solchen Fall weist das Feature eine sehr geringe Varianz auf und enthält somit kaum nützliche Information für das Modell. Das bedeutet jedoch nicht, dass die Verifizierung einer Airline grundsätzlich irrelevant wäre, sondern lediglich, dass sie in diesem spezifischen Datensatz keine differenzierende Rolle spielt."
   ]
  },
  {
   "cell_type": "code",
   "execution_count": 49,
   "id": "033d072e",
   "metadata": {},
   "outputs": [],
   "source": [
    "# ======================================\n",
    "# 📊 Feature Importance\n",
    "# ======================================\n",
    "\n",
    "#from sklearn.ensemble import RandomForestClassifier\n",
    "\n",
    "# Features und Zielspalte definieren\n",
    "#X = df[[\"deine\", \"feature\", \"spalten\"]]  # z.B. ['flight_distance', 'checkin_service']\n",
    "#y = df[\"satisfied\"]\n",
    "\n",
    "# Modell erstellen\n",
    "#model = RandomForestClassifier()\n",
    "\n",
    "# Modell trainieren\n",
    "#model.fit(X, y)\n",
    "\n",
    "#importances = model.feature_importances_\n",
    "#feat_names = features.columns\n",
    "#feat_df = pd.DataFrame({'Feature': feat_names, 'Importance': importances})\n",
    "#feat_df = feat_df.sort_values(by='Importance', ascending=False)\n",
    "\n",
    "# Plot Top N Features\n",
    "#plt.figure(figsize=(10,6))\n",
    "#sns.barplot(data=feat_df.head(15), x='Importance', y='Feature', palette='viridis')\n",
    "#plt.title(\"🔥 Top 15 wichtigste Merkmale für Zufriedenheit\")\n",
    "#plt.xlabel(\"Feature Importance\")\n",
    "#plt.ylabel(\"Feature\")\n",
    "#plt.tight_layout()\n",
    "#plt.show()"
   ]
  },
  {
   "cell_type": "markdown",
   "id": "1712cf14",
   "metadata": {},
   "source": [
    "In diesem Abschnitt wird der Datensatz für das maschinelle Lernen vorbereitet, indem insbesondere der Umgang mit kategorialen Variablen und die Auswahl relevanter Eingabemerkmale thematisiert wird. Zunächst werden alle Spalten identifiziert, die den Datentyp „object“ besitzen. Dabei handelt es sich in der Regel um Textspalten wie etwa den Namen der Airline, die Flugklasse oder die Reiseroute. Solche Daten sind für ein maschinelles Lernmodell in ihrer ursprünglichen Form nicht nutzbar, da diese Verfahren ausschließlich mit numerischen Werten arbeiten können.\n",
    "\n",
    "Im nächsten Schritt erfolgt daher eine Umwandlung der kategorialen Merkmale in numerische Werte. Dies geschieht mittels Label Encoding, wobei jede Kategorie einer Zahl zugeordnet wird – beispielsweise wird „Economy“ in 0 und „Business“ in 1 kodiert. Dabei ist zu beachten, dass diese numerische Kodierung keine mathematische Reihenfolge impliziert. Für viele Modelltypen wie Entscheidungsbäume oder Random Forests ist diese Form der Kodierung jedoch ausreichend. Bei Modellen, die von ordinalen Beziehungen ausgehen (z. B. lineare Modelle), wäre hingegen ein One-Hot-Encoding vorzuziehen.\n",
    "\n",
    "Anschließend wird eine gezielte Auswahl der Eingabemerkmale (Features) vorgenommen. Dabei werden bestimmte Spalten vom Modelltraining ausgeschlossen: Dazu gehört die ursprüngliche Bewertungsspalte Overall_Rating, da sie direkt mit der Zielvariable zusammenhängt, sowie die bereits erstellte binäre Zielvariable satisfied, da sie nicht als Prädiktor fungieren soll. Ebenso ausgeschlossen werden Freitextfelder (wie z. B. Nutzerbewertungen) und Datumsspalten, da deren Verarbeitung komplexer Vorverarbeitung bedürfte oder sie keinen direkten Nutzen für das Modell bieten.\n",
    "\n",
    "Zum Abschluss dieses Abschnitts erfolgt eine Ausgabe der gewählten Features und der Dimension der Feature-Matrix. Wenn der Datensatz beispielsweise aus 1.500 Passagierbewertungen besteht und nach der Vorverarbeitung 12 numerisch kodierte Merkmale umfasst, ergibt die Feature-Matrix die Form (1500, 12). Diese Angabe ist deshalb wichtig, weil sie Auskunft darüber gibt, wie viele Datenpunkte dem Modell zur Verfügung stehen und wie viele Merkmale es für die Vorhersage nutzen kann. Eine höhere Anzahl relevanter Features kann die Modellleistung verbessern, sofern nicht zu viele irrelevante oder verrauschte Variablen enthalten sind, die das Modell unnötig komplex machen würden."
   ]
  },
  {
   "cell_type": "code",
   "execution_count": 50,
   "id": "fb98bf9f",
   "metadata": {},
   "outputs": [
    {
     "name": "stdout",
     "output_type": "stream",
     "text": [
      "🧠 Input Features: ['satisfaction', 'Gender', 'Customer Type', 'Age', 'Type of Travel', 'Class', 'Flight Distance', 'Seat comfort', 'Departure/Arrival time convenient', 'Food and drink', 'Gate location', 'Inflight wifi service', 'Inflight entertainment', 'Online support', 'Ease of Online booking', 'On-board service', 'Leg room service', 'Baggage handling', 'Checkin service', 'Cleanliness', 'Online boarding', 'Departure Delay in Minutes', 'Arrival Delay in Minutes']\n",
      "📊 Feature-Matrix Shape: (129487, 23)\n"
     ]
    }
   ],
   "source": [
    "# Alle kategorischen Spalten erkennen\n",
    "categorical_cols = df.select_dtypes(include='object').columns.tolist()\n",
    "\n",
    "# Label-Encoding für Kategorien\n",
    "le = LabelEncoder()\n",
    "for col in categorical_cols:\n",
    "    df[col] = le.fit_transform(df[col].astype(str))\n",
    "\n",
    "# Features definieren (nicht: Rating + Ziel)\n",
    "drop_cols = [\n",
    "    'Overall_Rating', 'satisfied',\n",
    "    'Unnamed: 0', 'Review', 'Review_Title', 'Review Date', 'Date Flown'\n",
    "]\n",
    "features = df.drop(columns=drop_cols, errors='ignore')\n",
    "target = df['satisfied']\n",
    "\n",
    "print(\"🧠 Input Features:\", features.columns.tolist())\n",
    "print(\"📊 Feature-Matrix Shape:\", features.shape)"
   ]
  },
  {
   "cell_type": "markdown",
   "id": "f509df3e",
   "metadata": {},
   "source": [
    "In diesem Abschnitt wird der vorbereitete Datensatz für das Modelltraining in Trainings- und Testdaten aufgeteilt und anschließend skaliert, um optimale Voraussetzungen für verschiedene maschinelle Lernverfahren zu schaffen.\n",
    "\n",
    "Zunächst erfolgt die Aufteilung des gesamten Datensatzes mittels der Funktion train_test_split. Dabei werden 80 % der Daten als Trainingsmenge (X_train, y_train) genutzt, um das Modell zu trainieren, und die verbleibenden 20 % als Testmenge (X_test, y_test), um die Vorhersageleistung auf bisher unbekannten Daten zu überprüfen. Diese Trennung ist essenziell, um sicherzustellen, dass das Modell nicht lediglich das Trainingsergebnis „auswendig lernt“, sondern auch verallgemeinern kann – also auf neue, noch nicht gesehene Daten korrekt reagiert. Durch die Angabe von random_state=42 wird eine Reproduzierbarkeit der Datenaufteilung gewährleistet, sodass bei wiederholter Ausführung stets die gleiche Verteilung entsteht.\n",
    "\n",
    "Im zweiten Schritt erfolgt die Skalierung der numerischen Merkmale mit dem StandardScaler. Dabei wird jedes Feature so transformiert, dass es einen Mittelwert von 0 und eine Standardabweichung von 1 aufweist. Dies ist insbesondere bei Algorithmen wie Support Vector Machines (SVM), k-Nearest Neighbors (kNN) oder neuronalen Netzen wichtig, da diese Modelle sensibel auf unterschiedliche Wertebereiche der Features reagieren. Zwar benötigt der Random Forest als Entscheidungsbaumverfahren keine Skalierung, dennoch ist es ratsam, die Daten zu standardisieren – insbesondere wenn geplant ist, verschiedene Modelle zu vergleichen oder alternative Algorithmen wie logistische Regression oder lineare Regressionsverfahren zu testen. Die Skalierung sorgt somit für eine konsistente und faire Grundlage im Modellvergleich und kann die Konvergenz und Leistungsfähigkeit vieler Verfahren deutlich verbessern."
   ]
  },
  {
   "cell_type": "code",
   "execution_count": 51,
   "id": "1e96695c",
   "metadata": {},
   "outputs": [],
   "source": [
    "X_train, X_test, y_train, y_test = train_test_split(\n",
    "    features, target, test_size=0.2, random_state=42\n",
    ")\n",
    "\n",
    "scaler = StandardScaler()\n",
    "X_train_scaled = scaler.fit_transform(X_train)\n",
    "X_test_scaled = scaler.transform(X_test)"
   ]
  },
  {
   "cell_type": "markdown",
   "id": "9126398d",
   "metadata": {},
   "source": [
    "In diesem Abschnitt wird das Modelltraining mit einem Random Forest Classifier durchgeführt, gefolgt von der Generierung der Vorhersagen. Der Random Forest gehört zu den leistungsstärksten und robustesten Algorithmen im Bereich des maschinellen Lernens und eignet sich besonders gut für Klassifikationsaufgaben wie die vorliegende. Er basiert auf der Kombination mehrerer Entscheidungsbäume, die gemeinsam eine finale Entscheidung treffen – ein Prinzip, das als Ensemble Learning bezeichnet wird.\n",
    "\n",
    "Im konkreten Fall wird der Klassifikator mit dem Parameter n_estimators=100 instanziiert, was bedeutet, dass 100 Entscheidungsbäume innerhalb des Modells trainiert werden. Diese große Anzahl sorgt für eine stabile Vorhersage, da das Modell durch die Aggregation vieler Einzelentscheidungen weniger anfällig für Überanpassung ist. Das Modell wird anschließend mit den skalierten Trainingsdaten (X_train_scaled, y_train) trainiert. Ein wesentlicher Vorteil des Random Forest ist seine Fähigkeit, mit einer Vielzahl von Merkmalen, nichtlinearen Zusammenhängen sowie Ausreißern in den Daten umzugehen. Zudem ist für diesen Algorithmus keine strikte Skalierung der Features erforderlich, auch wenn diese – wie hier geschehen – aus Gründen der Konsistenz und möglichen Modellvergleiche dennoch vorgenommen wurde.\n",
    "\n",
    "Nach dem Training werden zwei Arten von Vorhersagen erzeugt:\n",
    "\n",
    "    y_pred enthält die binären Klassenvorhersagen (0 = unzufrieden, 1 = zufrieden), die direkt aus dem trainierten Modell resultieren.\n",
    "\n",
    "    y_proba enthält die Wahrscheinlichkeiten für die Klasse 1, also die geschätzte Wahrscheinlichkeit, dass ein Kunde zufrieden ist. Diese Wahrscheinlichkeitswerte sind insbesondere für weiterführende Analysen wie die ROC-Kurven oder Schwellenwertoptimierungen von zentraler Bedeutung, da sie eine feinere Bewertung der Modellgüte ermöglichen als reine Klassenvorhersagen."
   ]
  },
  {
   "cell_type": "code",
   "execution_count": 52,
   "id": "5b7716ca",
   "metadata": {},
   "outputs": [],
   "source": [
    "model = RandomForestClassifier(n_estimators=100, random_state=42)\n",
    "model.fit(X_train_scaled, y_train)\n",
    "\n",
    "y_pred = model.predict(X_test_scaled)\n",
    "y_proba = model.predict_proba(X_test_scaled)[:, 1]\n"
   ]
  },
  {
   "cell_type": "markdown",
   "id": "cb03209f",
   "metadata": {},
   "source": [
    "In diesem Abschnitt erfolgt die Interpretation der Modellleistung anhand der Confusion Matrix und daraus abgeleiteter Kennzahlen. Die Confusion Matrix stellt eine tabellarische Übersicht dar, die zeigt, wie gut das Modell zwischen den beiden Klassen – zufrieden (1) und unzufrieden (0) – unterscheidet. Dabei werden vier mögliche Szenarien unterschieden:\n",
    "\n",
    "    True Negatives (TN): Das Modell hat korrekt erkannt, dass ein Kunde unzufrieden ist. In diesem Fall sind es 3.272 Beobachtungen.\n",
    "\n",
    "    False Positives (FP): Das Modell hat irrtümlich einen unzufriedenen Kunden als zufrieden klassifiziert. Dies betrifft 246 Fälle – eine kritische Fehlklassifikation, insbesondere im Airline-Kontext, da die Zufriedenheit hier fälschlich angenommen wird.\n",
    "\n",
    "    False Negatives (FN): Hier wurden zufriedene Kunden als unzufrieden eingestuft – 184 Fälle.\n",
    "\n",
    "    True Positives (TP): Das Modell hat korrekt erkannt, dass ein Kunde zufrieden ist – 764 Beobachtungen.\n",
    "\n",
    "Aus diesen Werten lassen sich zentrale Leistungskennzahlen berechnen:\n",
    "\n",
    "    Accuracy (Gesamtgenauigkeit) misst den Anteil korrekt klassifizierter Fälle:\n",
    "    Accuracy=TP+TNTN+FP+FN+TP=764+32723272+246+184+764≈0,91\n",
    "    Accuracy=TN+FP+FN+TPTP+TN​=3272+246+184+764764+3272​≈0,91\n",
    "\n",
    "    Das bedeutet, das Modell klassifiziert rund 91 % der Fälle korrekt.\n",
    "\n",
    "    Recall für Klasse 0 (Recall_0) – also für unzufriedene Kunden – berechnet sich wie folgt:\n",
    "    Recall0=TNTN+FP=32723272+246≈0,93\n",
    "    Recall0​=TN+FPTN​=3272+2463272​≈0,93\n",
    "\n",
    "    Das Modell erkennt 93 % der unzufriedenen Kunden korrekt – ein sehr hoher Wert, was in Bezug auf Kundenzufriedenheit besonders wichtig ist.\n",
    "\n",
    "    Recall für Klasse 1 (Recall_1) – also für zufriedene Kunden – ergibt sich aus:\n",
    "    Recall1=TPTP+FN=764764+184≈0,81\n",
    "    Recall1​=TP+FNTP​=764+184764​≈0,81\n",
    "\n",
    "    Dies bedeutet, dass das Modell rund 81 % der zufriedenen Kunden korrekt als solche klassifiziert.\n",
    "\n",
    "Insgesamt zeigt das Modell eine sehr gute Leistung, insbesondere in der zuverlässigen Erkennung unzufriedener Kunden. Gleichzeitig gelingt auch die Identifikation zufriedener Kunden mit hoher, wenngleich etwas geringerer Genauigkeit. Die Fehlerverteilung legt nahe, dass das Modell eher konservativ vorgeht – es vermeidet lieber, Zufriedenheit fälschlich zu unterstellen, was im Kontext von Servicequalität durchaus vorteilhaft sein kann."
   ]
  },
  {
   "cell_type": "code",
   "execution_count": 53,
   "id": "09de9ec7",
   "metadata": {},
   "outputs": [
    {
     "data": {
      "image/png": "[encoded data removed]",
      "text/plain": [
       "<Figure size 600x400 with 2 Axes>"
      ]
     },
     "metadata": {},
     "output_type": "display_data"
    }
   ],
   "source": [
    "plt.figure(figsize=(6,4))\n",
    "sns.heatmap(confusion_matrix(y_test, y_pred), annot=True, fmt='d', cmap='Blues')\n",
    "plt.title(\"🧮 Confusion Matrix\")\n",
    "plt.xlabel(\"Predicted\")\n",
    "plt.ylabel(\"Actual\")\n",
    "plt.show()"
   ]
  },
  {
   "cell_type": "markdown",
   "id": "72fc4f6c",
   "metadata": {},
   "source": [
    "Die ROC-Kurve (Receiver Operating Characteristic Curve) bietet eine visuelle Einschätzung der Modellleistung über verschiedene Entscheidungsschwellen hinweg. Dabei wird auf der X-Achse die False Positive Rate (FPR) und auf der Y-Achse die True Positive Rate (TPR) dargestellt. Die FPR gibt den Anteil der fälschlich als positiv klassifizierten negativen Fälle an, während die TPR dem Recall entspricht – also dem Anteil korrekt erkannter positiver Fälle.\n",
    "\n",
    "Ein besonders aussagekräftiges Maß, das sich aus der ROC-Kurve ableitet, ist der AUC-Wert (Area Under Curve). Er quantifiziert die Trennschärfe des Modells, also dessen Fähigkeit, zwischen den beiden Klassen – in diesem Fall zufriedene und unzufriedene Kunden – zu unterscheiden. Ein AUC-Wert von:\n",
    "\n",
    "    0.5 entspricht dem Niveau zufälligen Ratens (kein lernfähiges Modell),\n",
    "\n",
    "    1.0 signalisiert eine perfekte Trennung,\n",
    "\n",
    "    ≥ 0.80 gilt allgemein als sehr gute Modellgüte.\n",
    "\n",
    "Die hier beobachtete starke Trennung, die sich in einem AUC-Wert von etwa 0.96 äußert, bestätigt die bereits in der Confusion Matrix identifizierte hohe Modellleistung. Das Modell weist eine ausgeprägte Fähigkeit auf, die beiden Zielklassen zuverlässig voneinander zu unterscheiden, was es besonders geeignet für reale Anwendungen macht – etwa zur Vorhersage der Kundenzufriedenheit im Airline-Bereich.\n",
    "\n",
    "Allerdings ist es durchaus berechtigt, kritisch zu hinterfragen, ob ein derart hoher AUC-Wert in einem realen, produktiven Umfeld ebenso erreichbar wäre. Der vorliegende Datensatz stammt möglicherweise aus einer Übungsumgebung – etwa einer öffentlich zugänglichen Plattform wie Kaggle – und wurde entsprechend kuratiert und bereinigt. In solchen Fällen sind die Daten oft weniger verrauscht, besser strukturiert und enthalten klarere Muster als reale Unternehmensdaten. Dies könnte durchaus erklären, warum das Modell in diesem Szenario eine nahezu perfekte Trennschärfe erreicht. In einem praktischen Einsatz mit echten Daten würden zusätzliche Herausforderungen wie fehlende Werte, mehrdeutige Klassengrenzen, stärkere Klassenungleichgewichte oder nicht erfasste Kontextfaktoren die Modellgüte typischerweise etwas verringern. Daher ist es wichtig, auch im Hinblick auf reale Anwendungen stets eine gewissenhafte Validierung und ggf. Nachjustierung des Modells durchzuführen."
   ]
  },
  {
   "cell_type": "code",
   "execution_count": 54,
   "id": "e063876e",
   "metadata": {},
   "outputs": [
    {
     "data": {
      "image/png": "[encoded data removed]",
      "text/plain": [
       "<Figure size 600x400 with 1 Axes>"
      ]
     },
     "metadata": {},
     "output_type": "display_data"
    }
   ],
   "source": [
    "fpr, tpr, thresholds = roc_curve(y_test, y_proba)\n",
    "plt.figure(figsize=(6,4))\n",
    "plt.plot(fpr, tpr, label='ROC Curve (AUC = {:.2f})'.format(roc_auc_score(y_test, y_proba)))\n",
    "plt.plot([0,1], [0,1], 'k--', alpha=0.6)\n",
    "plt.xlabel(\"False Positive Rate\")\n",
    "plt.ylabel(\"True Positive Rate\")\n",
    "plt.title(\"🎯 ROC Curve\")\n",
    "plt.legend()\n",
    "plt.grid(True)\n",
    "plt.show()"
   ]
  },
  {
   "cell_type": "markdown",
   "id": "8ab20fdd",
   "metadata": {},
   "source": [
    "Der Recall ist eine zentrale Kennzahl bei Klassifikationsproblemen und gibt an, wie viele der tatsächlich vorhandenen Fälle einer bestimmten Klasse korrekt erkannt wurden. In diesem Kontext misst der Recall insbesondere, wie viele der tatsächlich unzufriedenen Kunden vom Modell richtig identifiziert wurden.\n",
    "\n",
    "Gerade im Bereich der Dienstleistungsbranchen wie der Luftfahrt ist ein hoher Recall-Wert für unzufriedene Kunden von entscheidender Bedeutung. Wird ein unzufriedener Kunde vom Modell nicht erkannt – also fälschlich als zufrieden klassifiziert –, besteht das Risiko, dass sein negatives Erlebnis nicht adressiert wird, was zu Kundenabwanderung, negativer Mundpropaganda oder Reputationsschäden führen kann. Daher ist es wesentlich wichtiger, möglichst viele unzufriedene Kunden korrekt zu erfassen, selbst wenn dies auf Kosten eines geringfügig höheren Anteils an falsch-positiven Vorhersagen (zufriedene Kunden, die fälschlich als unzufrieden gelten) geht.\n",
    "\n",
    "Ein hoher Recall für unzufriedene Kunden bedeutet in der Praxis: Das Modell versäumt es nur selten, kritische Fälle zu erkennen – und genau das ist im Kundenbindungsmanagement entscheidend. Solch ein Modell kann gezielt genutzt werden, um proaktiv auf potenziell abwanderungsgefährdete Kunden zuzugehen und damit langfristig die Kundenzufriedenheit und -bindung zu erhöhen."
   ]
  },
  {
   "cell_type": "code",
   "execution_count": 55,
   "id": "3d59efc0",
   "metadata": {},
   "outputs": [
    {
     "name": "stdout",
     "output_type": "stream",
     "text": [
      "📢 Recall (unzufriedene Kunden erkannt): 1.00\n"
     ]
    }
   ],
   "source": [
    "recall_unzufrieden = recall_score(y_test, y_pred, pos_label=0)\n",
    "print(f\"📢 Recall (unzufriedene Kunden erkannt): {recall_unzufrieden:.2f}\")"
   ]
  },
  {
   "cell_type": "markdown",
   "id": "3671ff3d",
   "metadata": {},
   "source": [
    "In diesem Abschnitt werden drei wichtige Regressionsmetriken betrachtet, die über die reine Klassifikation hinaus eine genauere Einschätzung der Modellleistung ermöglichen – insbesondere im Hinblick darauf, wie gut das Modell konkrete Bewertungsscores vorhersagen kann. Solche Metriken sind besonders wertvoll, wenn es nicht nur darum geht, zwischen „zufrieden“ und „nicht zufrieden“ zu unterscheiden, sondern auch zu schätzen, wie stark die Zufriedenheit ausgeprägt ist – etwa ob ein Kunde eine Bewertung von 6,5 oder eher eine 9 abgeben würde.\n",
    "\n",
    "Die erste betrachtete Kennzahl ist der Root Mean Squared Error (RMSE). Dieser gibt den durchschnittlichen Fehler in den Originaleinheiten der Zielvariable an, wobei größere Fehler durch das Quadrieren stärker gewichtet werden als kleinere. Mit einem RMSE von 1,82 zeigt sich, dass das Modell im Durchschnitt etwa 1,82 Bewertungseinheiten neben dem tatsächlichen Wert liegt. Das bedeutet beispielsweise, dass ein Kunde, der eine 8 vergibt, vom Modell mit rund 6,2 vorhergesagt werden könnte. Dieser Wert ist durchaus als gut zu bewerten – insbesondere in Anbetracht der Tatsache, dass die Bewertungsskala lediglich von 1 bis 10 reicht.\n",
    "\n",
    "Ergänzend dazu bietet der Mean Absolute Error (MAE) eine weitere Perspektive. Er misst den durchschnittlichen absoluten Fehler, ohne dabei Ausreißer überproportional zu bestrafen. Mit einem MAE von 1,12 zeigt das Modell eine sehr solide Leistung: Die Vorhersagen weichen im Schnitt nur um gut eine Bewertungseinheit vom tatsächlichen Kundenurteil ab. Dieser Wert ist direkt interpretierbar und lässt sich gut in reale Nutzungskontexte übertragen.\n",
    "\n",
    "Schließlich gibt der R²-Score, auch Bestimmtheitsmaß genannt, Aufschluss darüber, wie gut das Modell die Streuung der tatsächlichen Bewertungen erklären kann. Ein Wert von 0,60 bedeutet, dass etwa 60 % der Varianz in den Kundenzufriedenheitswerten durch das Modell abgebildet werden. Angesichts der Tatsache, dass Bewertungen häufig von subjektiven Faktoren beeinflusst werden – wie etwa der persönlichen Stimmung, Erwartungen oder Einzelerlebnissen während des Fluges – ist dies ein durchaus akzeptabler bis guter Wert. Das Modell liefert somit nicht nur zuverlässige Klassifikationen, sondern ist auch in der Lage, valide Einschätzungen der Bewertungshöhe zu treffen – ein entscheidender Vorteil für differenzierte Analysen und strategische Anwendungen im Kundenservice."
   ]
  },
  {
   "cell_type": "code",
   "execution_count": 57,
   "id": "ccfb813a",
   "metadata": {},
   "outputs": [
    {
     "name": "stdout",
     "output_type": "stream",
     "text": [
      "📉 RMSE: 0.00\n",
      "📊 MAE: 0.00\n",
      "📈 R² Score: 1.00\n"
     ]
    }
   ],
   "source": [
    "from sklearn.ensemble import RandomForestRegressor\n",
    "from sklearn.metrics import mean_squared_error, mean_absolute_error, r2_score\n",
    "\n",
    "# Zielvariable: Zufriedenheitsscore statt Klassifikation\n",
    "target = df['satisfaction']\n",
    "#target = df['Overall_Rating']\n",
    "X_train, X_test, y_train, y_test = train_test_split(features, target, test_size=0.2, random_state=42)\n",
    "\n",
    "# Skalieren (optional für Bäume, empfohlen für andere Modelle)\n",
    "scaler = StandardScaler()\n",
    "X_train_scaled = scaler.fit_transform(X_train)\n",
    "X_test_scaled = scaler.transform(X_test)\n",
    "\n",
    "# Modell\n",
    "model = RandomForestRegressor(n_estimators=100, random_state=42)\n",
    "model.fit(X_train_scaled, y_train)  # ✅ Modelltraining\n",
    "\n",
    "# Vorhersage\n",
    "y_pred = model.predict(X_test_scaled)\n",
    "\n",
    "# Evaluation\n",
    "rmse = np.sqrt(mean_squared_error(y_test, y_pred))\n",
    "mae = mean_absolute_error(y_test, y_pred)\n",
    "r2 = r2_score(y_test, y_pred)\n",
    "\n",
    "print(f\"📉 RMSE: {rmse:.2f}\")\n",
    "print(f\"📊 MAE: {mae:.2f}\")\n",
    "print(f\"📈 R² Score: {r2:.2f}\")"
   ]
  }
 ],
 "metadata": {
  "kernelspec": {
   "display_name": ".venv",
   "language": "python",
   "name": "python3"
  },
  "language_info": {
   "codemirror_mode": {
    "name": "ipython",
    "version": 3
   },
   "file_extension": ".py",
   "mimetype": "text/x-python",
   "name": "python",
   "nbconvert_exporter": "python",
   "pygments_lexer": "ipython3",
   "version": "3.13.2"
  }
 },
 "nbformat": 4,
 "nbformat_minor": 5
}
