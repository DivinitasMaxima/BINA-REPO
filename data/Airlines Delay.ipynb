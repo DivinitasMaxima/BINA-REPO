{
  "nbformat": 4,
  "nbformat_minor": 0,
  "metadata": {
    "colab": {
      "provenance": [],
      "authorship_tag": "ABX9TyNDVg+5SD9E/bFnB4ykIIHz"
    },
    "kernelspec": {
      "name": "python3",
      "display_name": "Python 3"
    },
    "language_info": {
      "name": "python"
    }
  },
  "cells": [
    {
      "source": [
        "# Datensatz Airlines Delay\n",
        "import kagglehub\n",
        "from kagglehub import KaggleDatasetAdapter\n",
        "\n",
        "file_path = \"airlines_delay.csv\"  # Replace with the actual filename\n",
        "\n",
        "# Load the latest version\n",
        "df_airlines_delay = kagglehub.load_dataset(\n",
        "  KaggleDatasetAdapter.PANDAS,\n",
        "  \"ulrikthygepedersen/airlines-delay\",\n",
        "  file_path,\n",
        "  # Provide any additional arguments like\n",
        "  # sql_query or pandas_kwargs. See the\n",
        "  # documenation for more information:\n",
        "  # https://github.com/Kaggle/kagglehub/blob/main/README.md#kaggledatasetadapterpandas\n",
        ")\n",
        "\n",
        "print(\"First 5 records:\", df_airlines_delay.head())\n",
        "df_airlines_delay.info()"
      ],
      "cell_type": "code",
      "metadata": {
        "id": "kvQhMJH2kAi4",
        "outputId": "c33cbd41-824e-4ed1-b238-ec8a336422c9",
        "colab": {
          "base_uri": "https://localhost:8080/"
        }
      },
      "execution_count": 126,
      "outputs": [
        {
          "output_type": "stream",
          "name": "stderr",
          "text": [
            "<ipython-input-126-c5084883dbb9>:8: DeprecationWarning: load_dataset is deprecated and will be removed in future version.\n",
            "  df_airlines_delay = kagglehub.load_dataset(\n"
          ]
        },
        {
          "output_type": "stream",
          "name": "stdout",
          "text": [
            "First 5 records:    Flight    Time  Length Airline AirportFrom AirportTo  DayOfWeek  Class\n",
            "0  2313.0  1296.0   141.0      DL         ATL       HOU          1      0\n",
            "1  6948.0   360.0   146.0      OO         COS       ORD          4      0\n",
            "2  1247.0  1170.0   143.0      B6         BOS       CLT          3      0\n",
            "3    31.0  1410.0   344.0      US         OGG       PHX          6      0\n",
            "4   563.0   692.0    98.0      FL         BMI       ATL          4      0\n",
            "<class 'pandas.core.frame.DataFrame'>\n",
            "RangeIndex: 539382 entries, 0 to 539381\n",
            "Data columns (total 8 columns):\n",
            " #   Column       Non-Null Count   Dtype  \n",
            "---  ------       --------------   -----  \n",
            " 0   Flight       539382 non-null  float64\n",
            " 1   Time         539382 non-null  float64\n",
            " 2   Length       539382 non-null  float64\n",
            " 3   Airline      539382 non-null  object \n",
            " 4   AirportFrom  539382 non-null  object \n",
            " 5   AirportTo    539382 non-null  object \n",
            " 6   DayOfWeek    539382 non-null  int64  \n",
            " 7   Class        539382 non-null  int64  \n",
            "dtypes: float64(3), int64(2), object(3)\n",
            "memory usage: 32.9+ MB\n"
          ]
        }
      ]
    },
    {
      "cell_type": "code",
      "source": [
        "# Analysiere fehlende Werte (df.isnull().sum())\n",
        "\n",
        "print(df_airlines_delay.isnull().sum())"
      ],
      "metadata": {
        "id": "Xmrp4SE-ktq8",
        "outputId": "db99d3c1-bc67-4a94-bbc9-33969efd761f",
        "colab": {
          "base_uri": "https://localhost:8080/"
        }
      },
      "execution_count": 127,
      "outputs": [
        {
          "output_type": "stream",
          "name": "stdout",
          "text": [
            "Flight         0\n",
            "Time           0\n",
            "Length         0\n",
            "Airline        0\n",
            "AirportFrom    0\n",
            "AirportTo      0\n",
            "DayOfWeek      0\n",
            "Class          0\n",
            "dtype: int64\n"
          ]
        }
      ]
    },
    {
      "cell_type": "code",
      "source": [
        "# Suche nach doppelten Zeilen und lösche diese\n",
        "\n",
        "print(df_airlines_delay.duplicated().sum())\n",
        "\n",
        "df_airlines_delay.drop_duplicates(inplace=True)"
      ],
      "metadata": {
        "id": "5B2ArkCBmgHQ",
        "outputId": "af757a36-a0f0-49c3-f657-019cf1c62f55",
        "colab": {
          "base_uri": "https://localhost:8080/"
        }
      },
      "execution_count": 128,
      "outputs": [
        {
          "output_type": "stream",
          "name": "stdout",
          "text": [
            "216618\n"
          ]
        }
      ]
    },
    {
      "cell_type": "code",
      "source": [
        "# Zeige die Datentypen aller Spalten an\n",
        "print(df_airlines_delay.dtypes)"
      ],
      "metadata": {
        "id": "aCZWKiuLoSRy",
        "outputId": "62efc53f-1cfd-40a1-d9ca-d5be74299e19",
        "colab": {
          "base_uri": "https://localhost:8080/"
        }
      },
      "execution_count": 129,
      "outputs": [
        {
          "output_type": "stream",
          "name": "stdout",
          "text": [
            "Flight         float64\n",
            "Time           float64\n",
            "Length         float64\n",
            "Airline         object\n",
            "AirportFrom     object\n",
            "AirportTo       object\n",
            "DayOfWeek        int64\n",
            "Class            int64\n",
            "dtype: object\n"
          ]
        }
      ]
    },
    {
      "cell_type": "code",
      "source": [
        "# Lösche alle Zeilen, die nicht AA in Airline haben\n",
        "\n",
        "df_airlines_delay = df_airlines_delay[df_airlines_delay['Airline'] == 'AA']\n",
        "df_airlines_delay['Airline'].unique()"
      ],
      "metadata": {
        "id": "Z4THJhjsqFyq",
        "outputId": "24244549-c5ae-413f-e052-271dcc117682",
        "colab": {
          "base_uri": "https://localhost:8080/"
        }
      },
      "execution_count": 130,
      "outputs": [
        {
          "output_type": "execute_result",
          "data": {
            "text/plain": [
              "array(['AA'], dtype=object)"
            ]
          },
          "metadata": {},
          "execution_count": 130
        }
      ]
    },
    {
      "cell_type": "code",
      "source": [
        "print(df_airlines_delay.head())"
      ],
      "metadata": {
        "id": "JohtLiLmsA-W",
        "outputId": "2400794b-24ed-4b96-ac5d-59429371e8f6",
        "colab": {
          "base_uri": "https://localhost:8080/"
        }
      },
      "execution_count": 131,
      "outputs": [
        {
          "output_type": "stream",
          "name": "stdout",
          "text": [
            "    Flight    Time  Length Airline AirportFrom AirportTo  DayOfWeek  Class\n",
            "7   1300.0  1210.0    80.0      AA         DFW       MEM          3      0\n",
            "89   550.0  1030.0   150.0      AA         LAS       DFW          7      0\n",
            "92  1827.0  1030.0   225.0      AA         DFW       SMF          1      0\n",
            "94   655.0   540.0   250.0      AA         JFK       STT          6      0\n",
            "99  1822.0   875.0   130.0      AA         DFW       DAY          7      0\n"
          ]
        }
      ]
    },
    {
      "cell_type": "code",
      "source": [
        "# Datensatz Most Crowded Airports\n",
        "!pip install kagglehub[pandas-datasets]\n",
        "import kagglehub\n",
        "from kagglehub import KaggleDatasetAdapter\n",
        "\n",
        "# The 'file_path' should contain the actual filename and extension.\n",
        "file_path = \"airports.csv\"  # Replace 'airports.csv' with the actual filename if different.\n",
        "\n",
        "# Load the latest version\n",
        "df_crowded_airports = kagglehub.load_dataset(\n",
        "    KaggleDatasetAdapter.PANDAS,\n",
        "    \"khaiid/most-crowded-airports\",\n",
        "    file_path,\n",
        ")\n",
        "\n",
        "print(\"First 5 records:\", df_crowded_airports.head())"
      ],
      "metadata": {
        "id": "_3H4Tu7cskPH",
        "outputId": "7eb24408-f3b8-48ba-ff12-e3ec77f6bd40",
        "colab": {
          "base_uri": "https://localhost:8080/"
        }
      },
      "execution_count": 132,
      "outputs": [
        {
          "output_type": "stream",
          "name": "stdout",
          "text": [
            "Requirement already satisfied: kagglehub[pandas-datasets] in /usr/local/lib/python3.11/dist-packages (0.3.10)\n",
            "Requirement already satisfied: packaging in /usr/local/lib/python3.11/dist-packages (from kagglehub[pandas-datasets]) (24.2)\n",
            "Requirement already satisfied: pyyaml in /usr/local/lib/python3.11/dist-packages (from kagglehub[pandas-datasets]) (6.0.2)\n",
            "Requirement already satisfied: requests in /usr/local/lib/python3.11/dist-packages (from kagglehub[pandas-datasets]) (2.32.3)\n",
            "Requirement already satisfied: tqdm in /usr/local/lib/python3.11/dist-packages (from kagglehub[pandas-datasets]) (4.67.1)\n",
            "Requirement already satisfied: pandas in /usr/local/lib/python3.11/dist-packages (from kagglehub[pandas-datasets]) (2.2.2)\n",
            "Requirement already satisfied: numpy>=1.23.2 in /usr/local/lib/python3.11/dist-packages (from pandas->kagglehub[pandas-datasets]) (2.0.2)\n",
            "Requirement already satisfied: python-dateutil>=2.8.2 in /usr/local/lib/python3.11/dist-packages (from pandas->kagglehub[pandas-datasets]) (2.8.2)\n",
            "Requirement already satisfied: pytz>=2020.1 in /usr/local/lib/python3.11/dist-packages (from pandas->kagglehub[pandas-datasets]) (2025.2)\n",
            "Requirement already satisfied: tzdata>=2022.7 in /usr/local/lib/python3.11/dist-packages (from pandas->kagglehub[pandas-datasets]) (2025.2)\n",
            "Requirement already satisfied: charset-normalizer<4,>=2 in /usr/local/lib/python3.11/dist-packages (from requests->kagglehub[pandas-datasets]) (3.4.1)\n",
            "Requirement already satisfied: idna<4,>=2.5 in /usr/local/lib/python3.11/dist-packages (from requests->kagglehub[pandas-datasets]) (3.10)\n",
            "Requirement already satisfied: urllib3<3,>=1.21.1 in /usr/local/lib/python3.11/dist-packages (from requests->kagglehub[pandas-datasets]) (2.3.0)\n",
            "Requirement already satisfied: certifi>=2017.4.17 in /usr/local/lib/python3.11/dist-packages (from requests->kagglehub[pandas-datasets]) (2025.1.31)\n",
            "Requirement already satisfied: six>=1.5 in /usr/local/lib/python3.11/dist-packages (from python-dateutil>=2.8.2->pandas->kagglehub[pandas-datasets]) (1.17.0)\n"
          ]
        },
        {
          "output_type": "stream",
          "name": "stderr",
          "text": [
            "<ipython-input-132-f38bcd67bcf5>:10: DeprecationWarning: load_dataset is deprecated and will be removed in future version.\n",
            "  df_crowded_airports = kagglehub.load_dataset(\n"
          ]
        },
        {
          "output_type": "stream",
          "name": "stdout",
          "text": [
            "First 5 records:    Rank                                            Airport  \\\n",
            "0     1       China Guangzhou Baiyun International Airport   \n",
            "1     2  United States Hartsfield–Jackson Atlanta Inter...   \n",
            "2     3      China Chengdu Shuangliu International Airport   \n",
            "3     4  United States Dallas/Fort Worth International ...   \n",
            "4     5        China Shenzhen Bao'an International Airport   \n",
            "\n",
            "                             Location        Country      Code  Passengers  \\\n",
            "0  Baiyun-Huadu, Guangzhou, Guangdong          China  CAN/ZGGG    43760427   \n",
            "1                    Atlanta, Georgia  United States  ATL/KATL    42918685   \n",
            "2   Shuangliu-Wuhou, Chengdu, Sichuan          China  CTU/ZUUU    40741509   \n",
            "3            Dallas-Fort Worth, Texas  United States  DFW/KDFW    39364990   \n",
            "4         Bao'an, Shenzhen, Guangdong          China  SZX/ZGSZ    37916059   \n",
            "\n",
            "   Year  \n",
            "0  2020  \n",
            "1  2020  \n",
            "2  2020  \n",
            "3  2020  \n",
            "4  2020  \n"
          ]
        }
      ]
    },
    {
      "cell_type": "code",
      "source": [
        "# Alle Flughafen von United States\n",
        "#df_crowded_airports = df_crowded_airports[df_crowded_airports['Country'] == 'United States']\n",
        "#print(df_crowded_airports.head())"
      ],
      "metadata": {
        "id": "EGdv-nZdtUw5"
      },
      "execution_count": 133,
      "outputs": []
    },
    {
      "cell_type": "code",
      "source": [
        "df_crowded_airports[['IATA', 'ICAO']] = df_crowded_airports['Code'].str.split('/', n=1, expand=True)\n",
        "\n",
        "print(df_crowded_airports.head())"
      ],
      "metadata": {
        "id": "BYd19w9307-O",
        "outputId": "aba05a19-e040-4d7c-a90c-04fe2b23c899",
        "colab": {
          "base_uri": "https://localhost:8080/"
        }
      },
      "execution_count": 134,
      "outputs": [
        {
          "output_type": "stream",
          "name": "stdout",
          "text": [
            "   Rank                                            Airport  \\\n",
            "0     1       China Guangzhou Baiyun International Airport   \n",
            "1     2  United States Hartsfield–Jackson Atlanta Inter...   \n",
            "2     3      China Chengdu Shuangliu International Airport   \n",
            "3     4  United States Dallas/Fort Worth International ...   \n",
            "4     5        China Shenzhen Bao'an International Airport   \n",
            "\n",
            "                             Location        Country      Code  Passengers  \\\n",
            "0  Baiyun-Huadu, Guangzhou, Guangdong          China  CAN/ZGGG    43760427   \n",
            "1                    Atlanta, Georgia  United States  ATL/KATL    42918685   \n",
            "2   Shuangliu-Wuhou, Chengdu, Sichuan          China  CTU/ZUUU    40741509   \n",
            "3            Dallas-Fort Worth, Texas  United States  DFW/KDFW    39364990   \n",
            "4         Bao'an, Shenzhen, Guangdong          China  SZX/ZGSZ    37916059   \n",
            "\n",
            "   Year IATA  ICAO  \n",
            "0  2020  CAN  ZGGG  \n",
            "1  2020  ATL  KATL  \n",
            "2  2020  CTU  ZUUU  \n",
            "3  2020  DFW  KDFW  \n",
            "4  2020  SZX  ZGSZ  \n"
          ]
        }
      ]
    },
    {
      "cell_type": "code",
      "source": [
        "# Merge Passenger für 'AirportFrom'\n",
        "merged_df_from = pd.merge(df_airlines_delay, df_crowded_airports[['IATA', 'Passengers']], left_on='AirportFrom', right_on='IATA', how='left')\n",
        "df_airlines_delay['AirportFromCrowd'] = merged_df_from['Passengers']\n",
        "\n",
        "# Merge Passenger für 'AirportTo'\n",
        "merged_df_to = pd.merge(df_airlines_delay, df_crowded_airports[['IATA', 'Passengers']], left_on='AirportTo', right_on='IATA', how='left')\n",
        "df_airlines_delay['AirportToCrowd'] = merged_df_to['Passengers']\n",
        "\n",
        "print(\"First 5 records:\", df_airlines_delay.head())"
      ],
      "metadata": {
        "id": "2Bjo_RnGvR7D",
        "outputId": "8a688419-391c-4b0f-9340-af487f6acc5b",
        "colab": {
          "base_uri": "https://localhost:8080/"
        }
      },
      "execution_count": 135,
      "outputs": [
        {
          "output_type": "stream",
          "name": "stdout",
          "text": [
            "First 5 records:     Flight    Time  Length Airline AirportFrom AirportTo  DayOfWeek  Class  \\\n",
            "7   1300.0  1210.0    80.0      AA         DFW       MEM          3      0   \n",
            "89   550.0  1030.0   150.0      AA         LAS       DFW          7      0   \n",
            "92  1827.0  1030.0   225.0      AA         DFW       SMF          1      0   \n",
            "94   655.0   540.0   250.0      AA         JFK       STT          6      0   \n",
            "99  1822.0   875.0   130.0      AA         DFW       DAY          7      0   \n",
            "\n",
            "    AirportFromCrowd  AirportToCrowd  \n",
            "7         48566803.0             NaN  \n",
            "89        61623756.0             NaN  \n",
            "92               NaN      69112607.0  \n",
            "94               NaN      65670697.0  \n",
            "99        53099282.0      58813103.0  \n"
          ]
        }
      ]
    },
    {
      "cell_type": "code",
      "source": [
        "# Berechne die Anzahl der eindeutigen Werte pro Spalte\n",
        "unique_counts = df_airlines_delay.nunique()\n",
        "\n",
        "print(unique_counts)\n",
        "\n",
        "#ACHTUNG HIER FEHLEN VIELE FLUGHAFEN - wie sollen wir das machen?"
      ],
      "metadata": {
        "id": "si3UZPkTwnqu",
        "outputId": "1091a02e-b42c-44be-b58e-d9eb16151a35",
        "colab": {
          "base_uri": "https://localhost:8080/"
        }
      },
      "execution_count": 136,
      "outputs": [
        {
          "output_type": "stream",
          "name": "stdout",
          "text": [
            "Flight              1281\n",
            "Time                 229\n",
            "Length                98\n",
            "Airline                1\n",
            "AirportFrom           78\n",
            "AirportTo             78\n",
            "DayOfWeek              7\n",
            "Class                  2\n",
            "AirportFromCrowd      75\n",
            "AirportToCrowd        76\n",
            "dtype: int64\n"
          ]
        }
      ]
    }
  ]
}