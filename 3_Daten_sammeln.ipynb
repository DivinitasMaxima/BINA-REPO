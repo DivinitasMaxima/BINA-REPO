{
  "nbformat": 4,
  "nbformat_minor": 0,
  "metadata": {
    "colab": {
      "provenance": [],
      "authorship_tag": "ABX9TyNXdkvCssr5lLLDjFWDqDiU",
      "include_colab_link": true
    },
    "kernelspec": {
      "name": "python3",
      "display_name": "Python 3"
    },
    "language_info": {
      "name": "python"
    }
  },
  "cells": [
    {
      "cell_type": "markdown",
      "metadata": {
        "id": "view-in-github",
        "colab_type": "text"
      },
      "source": [
        "<a href=\"https://colab.research.google.com/github/DivinitasMaxima/BINA-REPO/blob/main/3_Daten_sammeln.ipynb\" target=\"_parent\"><img src=\"https://colab.research.google.com/assets/colab-badge.svg\" alt=\"Open In Colab\"/></a>"
      ]
    },
    {
      "cell_type": "markdown",
      "source": [
        "<h1 style=\"color: black; text-align: left;\"><b>3. Daten sammeln</b></h1>\n",
        "<p style=\"font-size: 16px; line-height: 1.5;\">\n",
        "Eine systematische und strukturierte Datensammlung ist der Grundstein für die spätere Analyse und Entscheidungsfindung. Im folgenden Kapitel werden die verschiedenen Aspekte des Datenbeschaffungsprozesses behandelt.\n",
        "</p>\n",
        "<h2 style=\"color: black; text-align: left;\"><b>3.1. Einleitung</b></h2>\n",
        "<p style=\"font-size: 16px; line-height: 1.5;\">\n",
        "Die Fluggesellschaft möchte die Faktoren verstehen, die die Kundenzufriedenheit beeinflussen, und Strategien identifizieren, um das Kundenerlebnis zu verbessern. Leider gibt American Airlines keine konkreten Zahlen zu Kundenumfragen oder anderen relevanten Statistiken heraus. Aus diesem Grund bedient sich die Projektgruppe öffentlich zugänglicher, anonymisierter Daten von Kaggle, einer Plattform, die über 50.000 Datensätze zu verschiedensten Themen bietet (Kaggle, o. J.). Die Projektgruppe nutzt diese anonymisierten Datensätze gezielt und wendet sie auf American Airlines an, um daraus relevante Erkenntnisse abzuleiten.\n",
        "\n",
        "Die Projektgruppe arbeitet mit den folgenden Datenquellen:\n",
        "<ol>\n",
        "    <li>Kundenzufriedenheitsumfrage XX (Annahme, dass diese Umfrage von American Airlines durchgeführt wurde) QUELLE</li>\n",
        "    <li>Flugverspätungen: https://www.kaggle.com/datasets/ulrikthygepedersen/airlines-delay/code</li>\n",
        "    <li>Grösste Flughäfen nach Passagieraufkommen zwischen 2016 und 2020: https://www.kaggle.com/datasets/khaiid/most-crowded-airports</li>\n",
        "    <li>XX (weitere relevante Datensätze, die später spezifiziert werden) QUELLE</li>\n",
        "</ol>\n",
        "\n",
        "</p>\n",
        "<hr>\n",
        "<h2 style=\"color: black; text-align: left;\"><b>3.2. Datenqualität</b></h2>\n",
        "<h3 style=\"color: black; text-align: left;\"><b>Kundenzufriedenheit</b></h3>\n",
        "<p>\n",
        "Um datenbasierte Erkenntnisse über die Zufriedenheit der Passagiere zu gewinnen wurde der Datensatz \"Invistico_Airline\" geladen. Ein Ziel der Analyse ist es, die wichtigsten Einflussfaktoren auf die Kundenzufriedenheit zu identifizieren, und daraus konkrete Optimierungsmaßnahmen für die Airline abzuleiten. Der genannte Datensatz enthält dabei über 100000 Kundenbewertungen mit Informationen zur:\n",
        "</p>\n",
        "\n",
        "\n",
        "| Spalte  | Typ  | Relevanz  |\n",
        "|-----------|-----------|-----------|\n",
        "| satisfaction    | satisfied / unsatisfied    |    |\n",
        "| Gender  | male / female    |      |\n",
        "| Customer Type | Loyal Customer / disloyal Customer |     |\n",
        "| Age    | #    |     |\n",
        "| Type of Travel    | Personal Travel / Business Travel    |     |\n",
        "| Class    | Business / Eco / Other    |    |\n",
        "| Flight Distance    | # in Meilen    |    |\n",
        "| Seat comfort    | 1 - 5    |    |\n",
        "| Departure/Arrival time convenient    | 1 - 5    |    |\n",
        "| Food and drink   | 1 - 5    |    |\n",
        "| Gate location   | 1 - 5    |    |\n",
        "| Inflight wifi service   | 1 - 5    |    |\n",
        "| Inflight entertainment   | 1 - 5   |    |\n",
        "| Online support   | 1 - 5   |    |\n",
        "| Ease of Online booking   | 1 - 5    |    |\n",
        "| On-board service   | 1 - 5    |    |\n",
        "| Leg room service   | 1 - 5    |    |\n",
        "| Baggage handling   | 1 - 5    |    |\n",
        "| Checkin service   | 1 - 5    |    |\n",
        "| Cleanliness   | 1 - 5    |    |\n",
        "| Online boarding   | 1 - 5    |    |\n",
        "| Departure Delay in Minutes   | in Min    |    |\n",
        "| Arrival Delay in Minutes   | in Min    |    |\n",
        "\n",
        "\n"
      ],
      "metadata": {
        "id": "hAQ_bovxUyVx"
      }
    },
    {
      "cell_type": "markdown",
      "source": [
        "Zuerst werden alle Datensätze aus Kaggle und heruntergeladene Dateien geladen."
      ],
      "metadata": {
        "id": "7v2Ad9UkLxRn"
      }
    },
    {
      "cell_type": "code",
      "source": [
        "# Datensätze von Kaggle herunterladen\n",
        "import kagglehub\n",
        "from kagglehub import KaggleDatasetAdapter\n",
        "\n",
        "file_path_zufriedenheit = \"Invistico_Airline.csv\"\n",
        "file_path_airlines_delay = \"airlines_delay.csv\"\n",
        "file_path_crowded_airports = \"Airports.csv\"\n",
        "\n",
        "# Kundenzufriedenheit\n",
        "df_zufriedenheit = kagglehub.load_dataset(\n",
        "  KaggleDatasetAdapter.PANDAS,\n",
        "  \"sjleshrac/airlines-customer-satisfaction\",\n",
        "  file_path_zufriedenheit,\n",
        ")\n",
        "\n",
        "# Verspätungen\n",
        "df_airlines_delay = kagglehub.load_dataset(\n",
        "  KaggleDatasetAdapter.PANDAS,\n",
        "  \"ulrikthygepedersen/airlines-delay\",\n",
        "  file_path_airlines_delay,\n",
        ")\n",
        "\n",
        "# Flughäfen\n",
        "df_crowded_airports = kagglehub.load_dataset(\n",
        "    KaggleDatasetAdapter.PANDAS,\n",
        "    \"khaiid/most-crowded-airports\",\n",
        "    file_path_crowded_airports,\n",
        ")"
      ],
      "metadata": {
        "id": "Hk81fAYgIETt",
        "outputId": "c2285d51-5254-4a01-fd0f-b15d045c55f2",
        "colab": {
          "base_uri": "https://localhost:8080/"
        }
      },
      "execution_count": 2,
      "outputs": [
        {
          "output_type": "stream",
          "name": "stderr",
          "text": [
            "<ipython-input-2-1d6e49fdbe6c>:10: DeprecationWarning: load_dataset is deprecated and will be removed in a future version.\n",
            "  df_zufriedenheit = kagglehub.load_dataset(\n"
          ]
        },
        {
          "output_type": "stream",
          "name": "stdout",
          "text": [
            "Downloading from https://www.kaggle.com/api/v1/datasets/download/sjleshrac/airlines-customer-satisfaction?dataset_version_number=1&file_name=Invistico_Airline.csv...\n"
          ]
        },
        {
          "output_type": "stream",
          "name": "stderr",
          "text": [
            "100%|██████████| 1.64M/1.64M [00:00<00:00, 2.11MB/s]"
          ]
        },
        {
          "output_type": "stream",
          "name": "stdout",
          "text": [
            "Extracting zip of Invistico_Airline.csv...\n"
          ]
        },
        {
          "output_type": "stream",
          "name": "stderr",
          "text": [
            "\n",
            "<ipython-input-2-1d6e49fdbe6c>:17: DeprecationWarning: load_dataset is deprecated and will be removed in a future version.\n",
            "  df_airlines_delay = kagglehub.load_dataset(\n",
            "<ipython-input-2-1d6e49fdbe6c>:24: DeprecationWarning: load_dataset is deprecated and will be removed in a future version.\n",
            "  df_crowded_airports = kagglehub.load_dataset(\n"
          ]
        }
      ]
    },
    {
      "cell_type": "markdown",
      "source": [
        "Bevor mit der eigentlichen Analyse begonnen werden konnte, wurden die Daten sorgfältig bereinigt und vorbereitet. Dies geschah damit die Ergebnisse möglichst zuverlässige und aussagekräftige sind. So wurden zuerst geprüft ob mögliche Fehlende Werte im Datensatz vorhanden waren, damit diese entfernt werden können."
      ],
      "metadata": {
        "id": "BYYgUoWFJVB6"
      }
    },
    {
      "cell_type": "code",
      "source": [
        "# Analyse von fehlenden Daten in allen Datensätzen\n",
        "print('-----df_zufriedenheit-----')\n",
        "print(df_zufriedenheit.isnull().sum())\n",
        "print('-----df_airlines_delay-----')\n",
        "print(df_airlines_delay.isnull().sum())\n",
        "print('-----df_crowded_airports-----')\n",
        "print(df_crowded_airports.isnull().sum())\n",
        "\n",
        "# Wenn man möchte, kann man sich hier die fehlenden Werte anzeigen lassen\n",
        "# df_zufriedenheit[df_zufriedenheit.isnull().any(axis=1)]\n"
      ],
      "metadata": {
        "collapsed": true,
        "id": "Vz60d8o1K3g2",
        "outputId": "50d7e25c-f89a-42a1-f8d5-fc43de521de0",
        "colab": {
          "base_uri": "https://localhost:8080/"
        }
      },
      "execution_count": 5,
      "outputs": [
        {
          "output_type": "stream",
          "name": "stdout",
          "text": [
            "-----df_zufriedenheit-----\n",
            "satisfaction                           0\n",
            "Gender                                 0\n",
            "Customer Type                          0\n",
            "Age                                    0\n",
            "Type of Travel                         0\n",
            "Class                                  0\n",
            "Flight Distance                        0\n",
            "Seat comfort                           0\n",
            "Departure/Arrival time convenient      0\n",
            "Food and drink                         0\n",
            "Gate location                          0\n",
            "Inflight wifi service                  0\n",
            "Inflight entertainment                 0\n",
            "Online support                         0\n",
            "Ease of Online booking                 0\n",
            "On-board service                       0\n",
            "Leg room service                       0\n",
            "Baggage handling                       0\n",
            "Checkin service                        0\n",
            "Cleanliness                            0\n",
            "Online boarding                        0\n",
            "Departure Delay in Minutes             0\n",
            "Arrival Delay in Minutes             393\n",
            "dtype: int64\n",
            "-----df_airlines_delay-----\n",
            "Flight         0\n",
            "Time           0\n",
            "Length         0\n",
            "Airline        0\n",
            "AirportFrom    0\n",
            "AirportTo      0\n",
            "DayOfWeek      0\n",
            "Class          0\n",
            "dtype: int64\n",
            "-----df_crowded_airports-----\n",
            "Rank          0\n",
            "Airport       0\n",
            "Location      0\n",
            "Country       0\n",
            "Code          0\n",
            "Passengers    0\n",
            "Year          0\n",
            "dtype: int64\n"
          ]
        }
      ]
    },
    {
      "cell_type": "markdown",
      "source": [
        "Erkenntnisse hier"
      ],
      "metadata": {
        "id": "jNu1cJe7UNnb"
      }
    },
    {
      "cell_type": "code",
      "source": [
        "# Analyse von doppelten Einträgen in allen Datensätzen\n",
        "duplicates_zufriedenheit = df_zufriedenheit[df_zufriedenheit.duplicated()]\n",
        "print('-----df_zufriedenheit-----')\n",
        "print(f\"Anzahl der doppelten Zeilen: {duplicates_zufriedenheit.shape[0]}\")\n",
        "# duplicates_zufriedenheit\n",
        "print('-----df_airlines_delay-----')\n",
        "duplicates_airlines_delay = df_airlines_delay[df_airlines_delay.duplicated()]\n",
        "print(f\"Anzahl der doppelten Zeilen: {duplicates_airlines_delay.shape[0]}\")\n",
        "# Wenn man möchte, kann man sich hier die doppelten Werte anzeigen lassen\n",
        "# duplicates_airlines_delay\n",
        "print('-----df_crowded_airports-----')\n",
        "duplicates_crowded_airports = df_crowded_airports[df_crowded_airports.duplicated()]\n",
        "print(f\"Anzahl der doppelten Zeilen: {duplicates_crowded_airports.shape[0]}\")\n",
        "# duplicates_crowded_airports"
      ],
      "metadata": {
        "collapsed": true,
        "id": "6T75TV08Nff6",
        "outputId": "c41c2d0b-0723-4cc4-b193-8ce953a41761",
        "colab": {
          "base_uri": "https://localhost:8080/"
        }
      },
      "execution_count": 10,
      "outputs": [
        {
          "output_type": "stream",
          "name": "stdout",
          "text": [
            "-----df_zufriedenheit-----\n",
            "Anzahl der doppelten Zeilen: 0\n",
            "-----df_airlines_delay-----\n",
            "Anzahl der doppelten Zeilen: 216618\n",
            "-----df_crowded_airports-----\n",
            "Anzahl der doppelten Zeilen: 0\n"
          ]
        }
      ]
    },
    {
      "cell_type": "markdown",
      "source": [
        "Erkenntnisse hier"
      ],
      "metadata": {
        "id": "u5zxmgIVUAKQ"
      }
    },
    {
      "cell_type": "code",
      "source": [
        "# Analyse von statistischen Ausreissern\n",
        "print('-----df_zufriedenheit-----')\n",
        "print(df_zufriedenheit.describe())\n",
        "print('-----df_airlines_delay-----')\n",
        "print(df_airlines_delay.describe())\n",
        "print('-----df_crowded_airports-----')\n",
        "print(df_crowded_airports.describe())"
      ],
      "metadata": {
        "collapsed": true,
        "id": "CnQ039BiP58Q",
        "outputId": "40632982-dacd-48e2-9921-145292bcbc3a",
        "colab": {
          "base_uri": "https://localhost:8080/"
        }
      },
      "execution_count": 11,
      "outputs": [
        {
          "output_type": "stream",
          "name": "stdout",
          "text": [
            "-----df_zufriedenheit-----\n",
            "                 Age  Flight Distance   Seat comfort  \\\n",
            "count  129880.000000    129880.000000  129880.000000   \n",
            "mean       39.427957      1981.409055       2.838597   \n",
            "std        15.119360      1027.115606       1.392983   \n",
            "min         7.000000        50.000000       0.000000   \n",
            "25%        27.000000      1359.000000       2.000000   \n",
            "50%        40.000000      1925.000000       3.000000   \n",
            "75%        51.000000      2544.000000       4.000000   \n",
            "max        85.000000      6951.000000       5.000000   \n",
            "\n",
            "       Departure/Arrival time convenient  Food and drink  Gate location  \\\n",
            "count                      129880.000000   129880.000000  129880.000000   \n",
            "mean                            2.990645        2.851994       2.990422   \n",
            "std                             1.527224        1.443729       1.305970   \n",
            "min                             0.000000        0.000000       0.000000   \n",
            "25%                             2.000000        2.000000       2.000000   \n",
            "50%                             3.000000        3.000000       3.000000   \n",
            "75%                             4.000000        4.000000       4.000000   \n",
            "max                             5.000000        5.000000       5.000000   \n",
            "\n",
            "       Inflight wifi service  Inflight entertainment  Online support  \\\n",
            "count          129880.000000           129880.000000   129880.000000   \n",
            "mean                3.249130                3.383477        3.519703   \n",
            "std                 1.318818                1.346059        1.306511   \n",
            "min                 0.000000                0.000000        0.000000   \n",
            "25%                 2.000000                2.000000        3.000000   \n",
            "50%                 3.000000                4.000000        4.000000   \n",
            "75%                 4.000000                4.000000        5.000000   \n",
            "max                 5.000000                5.000000        5.000000   \n",
            "\n",
            "       Ease of Online booking  On-board service  Leg room service  \\\n",
            "count           129880.000000     129880.000000     129880.000000   \n",
            "mean                 3.472105          3.465075          3.485902   \n",
            "std                  1.305560          1.270836          1.292226   \n",
            "min                  0.000000          0.000000          0.000000   \n",
            "25%                  2.000000          3.000000          2.000000   \n",
            "50%                  4.000000          4.000000          4.000000   \n",
            "75%                  5.000000          4.000000          5.000000   \n",
            "max                  5.000000          5.000000          5.000000   \n",
            "\n",
            "       Baggage handling  Checkin service    Cleanliness  Online boarding  \\\n",
            "count     129880.000000    129880.000000  129880.000000    129880.000000   \n",
            "mean           3.695673         3.340807       3.705759         3.352587   \n",
            "std            1.156483         1.260582       1.151774         1.298715   \n",
            "min            1.000000         0.000000       0.000000         0.000000   \n",
            "25%            3.000000         3.000000       3.000000         2.000000   \n",
            "50%            4.000000         3.000000       4.000000         4.000000   \n",
            "75%            5.000000         4.000000       5.000000         4.000000   \n",
            "max            5.000000         5.000000       5.000000         5.000000   \n",
            "\n",
            "       Departure Delay in Minutes  Arrival Delay in Minutes  \n",
            "count               129880.000000             129487.000000  \n",
            "mean                    14.713713                 15.091129  \n",
            "std                     38.071126                 38.465650  \n",
            "min                      0.000000                  0.000000  \n",
            "25%                      0.000000                  0.000000  \n",
            "50%                      0.000000                  0.000000  \n",
            "75%                     12.000000                 13.000000  \n",
            "max                   1592.000000               1584.000000  \n",
            "-----df_airlines_delay-----\n",
            "              Flight           Time         Length      DayOfWeek  \\\n",
            "count  539382.000000  539382.000000  539382.000000  539382.000000   \n",
            "mean     2427.927988     802.728161     132.202104       3.929666   \n",
            "std      2067.431700     278.045546      70.117045       1.914666   \n",
            "min         1.000000      10.000000       0.000000       1.000000   \n",
            "25%       712.000000     565.000000      81.000000       2.000000   \n",
            "50%      1809.000000     795.000000     115.000000       4.000000   \n",
            "75%      3745.000000    1035.000000     162.000000       5.000000   \n",
            "max      7814.000000    1439.000000     655.000000       7.000000   \n",
            "\n",
            "               Class  \n",
            "count  539382.000000  \n",
            "mean        0.445443  \n",
            "std         0.497015  \n",
            "min         0.000000  \n",
            "25%         0.000000  \n",
            "50%         0.000000  \n",
            "75%         1.000000  \n",
            "max         1.000000  \n",
            "-----df_crowded_airports-----\n",
            "             Rank    Passengers         Year\n",
            "count  250.000000  2.500000e+02   250.000000\n",
            "mean    25.500000  5.148617e+07  2018.000000\n",
            "std     14.459818  2.002711e+07     1.417051\n",
            "min      1.000000  1.589289e+07  2016.000000\n",
            "25%     13.000000  4.189389e+07  2017.000000\n",
            "50%     25.500000  4.759559e+07  2018.000000\n",
            "75%     38.000000  6.449894e+07  2019.000000\n",
            "max     50.000000  1.105313e+08  2020.000000\n"
          ]
        }
      ]
    },
    {
      "cell_type": "markdown",
      "source": [
        "Erkenntnisse hier!"
      ],
      "metadata": {
        "id": "1DaI0GhATFmR"
      }
    },
    {
      "cell_type": "code",
      "source": [
        "import seaborn as sns\n",
        "import matplotlib.pyplot as plt\n",
        "\n",
        "plt.figure(figsize=(12, 6))\n",
        "sns.boxplot(data=df_zufriedenheit[[\"Age\", \"Flight Distance\", \"Departure Delay in Minutes\"]])\n",
        "plt.title(\"Boxplot zur Erkennung von Ausreissern\")\n",
        "plt.show()\n"
      ],
      "metadata": {
        "id": "u8RzT3-4SbFK",
        "outputId": "ba8f0409-8060-4113-fced-b50301061731",
        "colab": {
          "base_uri": "https://localhost:8080/",
          "height": 545
        }
      },
      "execution_count": 12,
      "outputs": [
        {
          "output_type": "display_data",
          "data": {
            "text/plain": [
              "<Figure size 1200x600 with 1 Axes>"
            ],
            "image/png": "[encoded data removed]"
          },
          "metadata": {}
        }
      ]
    },
    {
      "cell_type": "markdown",
      "source": [
        "Sich die Werte ab ca. 4500 anzeigen lassen"
      ],
      "metadata": {
        "id": "A49xtbX2UFUi"
      }
    }
  ]
}