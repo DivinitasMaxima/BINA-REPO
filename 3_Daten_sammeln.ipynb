{
  "nbformat": 4,
  "nbformat_minor": 0,
  "metadata": {
    "colab": {
      "provenance": [],
      "authorship_tag": "ABX9TyPq8/v6cA7LTJZe3ec9pcKr",
      "include_colab_link": true
    },
    "kernelspec": {
      "name": "python3",
      "display_name": "Python 3"
    },
    "language_info": {
      "name": "python"
    }
  },
  "cells": [
    {
      "cell_type": "markdown",
      "metadata": {
        "id": "view-in-github",
        "colab_type": "text"
      },
      "source": [
        "<a href=\"https://colab.research.google.com/github/DivinitasMaxima/BINA-REPO/blob/main/3_Daten_sammeln.ipynb\" target=\"_parent\"><img src=\"https://colab.research.google.com/assets/colab-badge.svg\" alt=\"Open In Colab\"/></a>"
      ]
    },
    {
      "cell_type": "markdown",
      "source": [
        "<h1 style=\"color: black; text-align: left;\"><b>3. Daten sammeln</b></h1>\n",
        "<p style=\"font-size: 16px; line-height: 1.5;\">\n",
        "Eine systematische und strukturierte Datensammlung ist der Grundstein für die spätere Analyse und Entscheidungsfindung. Im folgenden Kapitel werden die verschiedenen Aspekte des Datenbeschaffungsprozesses behandelt.\n",
        "</p>\n",
        "<h2 style=\"color: black; text-align: left;\"><b>3.1. Einleitung</b></h2>\n",
        "<p style=\"font-size: 16px; line-height: 1.5;\">\n",
        "Die Fluggesellschaft möchte die Faktoren verstehen, die die Kundenzufriedenheit beeinflussen, und Strategien identifizieren, um das Kundenerlebnis zu verbessern. Leider gibt American Airlines keine konkreten Zahlen zu Kundenumfragen oder anderen relevanten Statistiken heraus. Aus diesem Grund bedient sich die Projektgruppe öffentlich zugänglicher, anonymisierter Daten von Kaggle, einer Plattform, die über 50.000 Datensätze zu verschiedensten Themen bietet (Kaggle, o. J.). Die Projektgruppe nutzt diese anonymisierten Datensätze gezielt und wendet sie auf American Airlines an, um daraus relevante Erkenntnisse abzuleiten.\n",
        "\n",
        "Die Projektgruppe arbeitet mit den folgenden Datenquellen:\n",
        "<ol>\n",
        "    <li>Kundenzufriedenheitsumfrage XX (Annahme, dass diese Umfrage von American Airlines durchgeführt wurde) QUELLE</li>\n",
        "    <li>Flugverspätungen: https://www.kaggle.com/datasets/ulrikthygepedersen/airlines-delay/code</li>\n",
        "    <li>Grösste Flughäfen nach Passagieraufkommen zwischen 2016 und 2020: https://www.kaggle.com/datasets/khaiid/most-crowded-airports</li>\n",
        "    <li>XX (weitere relevante Datensätze, die später spezifiziert werden) QUELLE</li>\n",
        "</ol>\n",
        "\n",
        "</p>\n",
        "<hr>\n",
        "<h2 style=\"color: black; text-align: left;\"><b>3.2. Datenqualität</b></h2>\n",
        "<h3 style=\"color: black; text-align: left;\"><b>Kundenzufriedenheit</b></h3>\n",
        "<p>\n",
        "Um datenbasierte Erkenntnisse über die Zufriedenheit der Passagiere zu gewinnen wurde der Datensatz \"Invistico_Airline\" geladen. Ein Ziel der Analyse ist es, die wichtigsten Einflussfaktoren auf die Kundenzufriedenheit zu identifizieren, und daraus konkrete Optimierungsmaßnahmen für die Airline abzuleiten. Der genannte Datensatz enthält dabei über 100000 Kundenbewertungen mit Informationen zur:\n",
        "</p>\n",
        "\n",
        "| Spalte  | Typ  | Relevanz  |\n",
        "|-----------|-----------|-----------|\n",
        "| satisfaction    | satisfied / unsatisfied    |    |\n",
        "| Gender  | male / female    |      |\n",
        "| Customer Type | Loyal Customer / disloyal Customer |     |\n",
        "| Age    | #    |     |\n",
        "| Type of Travel    | Personal Travel / Business Travel    |     |\n",
        "| Class    | Business / Eco / Other    |    |\n",
        "| Flight Distance    | # in Meilen    |    |\n",
        "| Seat comfort    | 1 - 5    |    |\n",
        "| Departure/Arrival time convenient    | 1 - 5    |    |\n",
        "| Food and drink   | 1 - 5    |    |\n",
        "| Gate location   | 1 - 5    |    |\n",
        "| Inflight wifi service   | 1 - 5    |    |\n",
        "| Inflight entertainment   | 1 - 5   |    |\n",
        "| Online support   | 1 - 5   |    |\n",
        "| Ease of Online booking   | 1 - 5    |    |\n",
        "| On-board service   | 1 - 5    |    |\n",
        "| Leg room service   | 1 - 5    |    |\n",
        "| Baggage handling   | 1 - 5    |    |\n",
        "| Checkin service   | 1 - 5    |    |\n",
        "| Cleanliness   | 1 - 5    |    |\n",
        "| Online boarding   | 1 - 5    |    |\n",
        "| Departure Delay in Minutes   | in Min    |    |\n",
        "| Arrival Delay in Minutes   | in Min    |    |\n",
        "\n",
        "\n"
      ],
      "metadata": {
        "id": "hAQ_bovxUyVx"
      }
    }
  ]
}