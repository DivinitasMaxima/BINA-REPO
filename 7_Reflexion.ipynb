{
  "nbformat": 4,
  "nbformat_minor": 0,
  "metadata": {
    "colab": {
      "provenance": [],
      "authorship_tag": "ABX9TyP3OpYcU4ZgDIBMPfMVgYaj",
      "include_colab_link": true
    },
    "kernelspec": {
      "name": "python3",
      "display_name": "Python 3"
    },
    "language_info": {
      "name": "python"
    }
  },
  "cells": [
    {
      "cell_type": "markdown",
      "metadata": {
        "id": "view-in-github",
        "colab_type": "text"
      },
      "source": [
        "<a href=\"https://colab.research.google.com/github/DivinitasMaxima/BINA-REPO/blob/main/7_Reflexion.ipynb\" target=\"_parent\"><img src=\"https://colab.research.google.com/assets/colab-badge.svg\" alt=\"Open In Colab\"/></a>"
      ]
    },
    {
      "cell_type": "markdown",
      "source": [
        "<h1 style=\"color: black; text-align: left;\"><b>7. Reflexion</b></h1>\n",
        "<h2 style=\"color: black; text-align: left;\"><b>7.1. Test</b></h2>\n",
        "<p style=\"font-size: 16px; line-height: 1.5;\">\n",
        "x\n",
        "</p>\n"
      ],
      "metadata": {
        "id": "dR_bzVs25CT3"
      }
    }
  ]
}