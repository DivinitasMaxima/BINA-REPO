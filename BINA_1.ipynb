{
  "cells": [
    {
      "cell_type": "markdown",
      "metadata": {
        "id": "J9x7FY8icHpt"
      },
      "source": [
        "# Management Summary\n",
        "\n",
        "# 1. Einleitung\n",
        "\n",
        "Die Kundenzufriedenheit spielt eine zentrale Rolle in der wettbewerbsintensiven Luftfahrtbranche. Fluggäste erwarten nicht nur eine sichere und pünktliche Beförderung, sondern auch einen exzellenten Service, der ihr Reiseerlebnis positiv beeinflusst. Gerade auf Flugreisen ist die Kundschaft besonders sensibel für die Qualität des angebotenen Services, sei es aufgrund der hohen Ticketpreise oder der unterbewussten Anspannung während des Flugs. Kleine Details im Service können sich summieren und erheblichen Einfluss auf die Wahrnehmung und Zufriedenheit der Passagiere haben. (International, 2014).\n",
        "\n",
        "Um das Kundenerlebnis systematisch zu optimieren, setzt American Airlines auf Bernard Marrs fünfstufigen Ansatz zur datengetriebenen Entscheidungsfindung. Dieser methodische Ansatz ermöglicht es, fundierte Entscheidungen zu treffen und gezielte Massnahmen zur Verbesserung der Kundenzufriedenheit zu ergreifen. Die vorliegende Arbeit untersucht diesen Prozess detailliert und konzentriert sich dabei auf die ersten vier der fünf Schritte von Marrs (2020):\n",
        "\n",
        "1.  Ziel und Informationsbedarf definieren (Kapitel 2): Hier werden die Hauptziele festgelegt, die als Grundlage für die weiteren Analysen dienen.\n",
        "2.  Daten sammeln (Kapitel 3): Dieser Abschnitt behandelt die verschiedenen Aspekte der Datenerhebung, darunter Datenquellen, Datenqualität, Datenbereinigung und Datenmodellierung.\n",
        "3.  Daten analysieren (Kapitel 4): Die gesammelten und aufbereiteten Daten werden analysiert, um fundierte Erkenntnisse zu gewinnen.\n",
        "4.  Informationen präsentieren (Kapitel 6): Die Analyseergebnisse werden strukturiert aufbereitet und visualisiert, um eine fundierte Entscheidungsgrundlage zu schaffen.\n",
        "\n",
        "Der fünfte Schritt, datengestützte Entscheidungen treffen, wird in dieser Arbeit nicht umgesetzt, da er nicht Teil der Aufgabenstellung ist.\n"
      ]
    },
    {
      "cell_type": "markdown",
      "source": [
        "# 2. Ziel und Informationsbedarf definieren\n",
        "\n",
        "American Airlines verfolgt das Ziel, die Kundenzufriedenheit kontinuierlich zu verbessern, um sich im hart umkämpften Luftverkehrsmarkt erfolgreich zu behaupten. Dazu ist es notwendig, die wesentlichen Einflussfaktoren zu identifizieren, die das Reiseerlebnis der Passagiere positiv oder negativ beeinflussen. Ein datenbasierter Ansatz ermöglicht es, fundierte Entscheidungen zur Optimierung des Services und der betrieblichen Abläufe zu treffen.\n",
        "\n",
        "Im Rahmen dieser Projektarbeit sollen daher folgende zentrale Fragen untersucht werden:\n",
        "\n",
        "1.  Welche Faktoren haben den grössten Einfluss auf die Kundenzufriedenheit im Luftverkehr?\n",
        "2.  Welche Faktoren beeinflussen Flugverspätungen am meisten?\n",
        "3.  Wie variieren Passagieraufkommen und Flugverkehr über Zeit und Regionen hinweg, und welche Auswirkungen hat dies auf die Kundenzufriedenheit?"
      ],
      "metadata": {
        "id": "y9B_8mbZKWDu"
      }
    },
    {
      "cell_type": "markdown",
      "source": [
        "# 3. Daten sammeln\n",
        "Eine systematische und strukturierte Datensammlung ist der Grundstein für die spätere Analyse und Entscheidungsfindung. Im folgenden Kapitel werden die verschiedenen Aspekte des Datenbeschaffungsprozesses behandelt.\n",
        "\n",
        "## 3.1 Datenquellen\n",
        "Die Fluggesellschaft möchte die Faktoren verstehen, die die Kundenzufriedenheit beeinflussen, und Strategien identifizieren, um das Kundenerlebnis zu verbessern. Leider gibt American Airlines keine konkreten Zahlen zu Kundenumfragen oder anderen relevanten Statistiken heraus. Aus diesem Grund bedient sich die Projektgruppe öffentlich zugänglicher, anonymisierter Daten von Kaggle, einer Plattform, die über 50.000 Datensätze zu verschiedensten Themen bietet (Kaggle, o. J.). Die Projektgruppe nutzt diese anonymisierten Datensätze gezielt und wendet sie auf American Airlines an, um daraus relevante Erkenntnisse abzuleiten.\n",
        "\n",
        "Die Projektgruppe arbeitet mit den folgenden Datenquellen:\n",
        "\n",
        "- Kundenzufriedenheitsumfrage XX (Annahme, dass diese Umfrage von American Airlines durchgeführt wurde) QUELLE\n",
        "- Flugverspätungen: https://www.kaggle.com/datasets/ulrikthygepedersen/airlines-delay/code\n",
        "- Grösste Flughäfen nach Passagieraufkommen zwischen 2016 und 2020: https://www.kaggle.com/datasets/khaiid/most-crowded-airports\n",
        "- XX (weitere relevante Datensätze, die später spezifiziert werden) QUELLE\n",
        "\n",
        "## 3.2 Datenqualität\n",
        "\n",
        "\n",
        "## 3.3 Datenbereinigung\n",
        "**Kundenzufriedenheitsumfrage**\n",
        "\n",
        "Für diesen Datensatz wurde zunächst überprüft ob sich leere Felder im Datensatz befinden, welche in diesem Fall entfernt worden währen. Daraufhin wurden die Werte in verschiedenen Spalten umgewnadelt damit leichter mit ihnen zu arbeiten war. So wurden unteranderem die Werte in der Zielspalte \"Satisfaction“ in binäre Werte umgewandelt, 1 für \"satisfied\" und 0 für dissatisfied\". Aber auch andere Spalten wie zum Beispiel die Spalten \"Gender\", \"Customer Type\", \"Type of Travel\" und \"Class\" wurden zum besseren arbeiten mit den Daten in numerische Werte umgewandelt.\n",
        "\n",
        "xx\n",
        "\n",
        "\n",
        "x\n",
        "\n",
        "**Flugverspätungen**\n",
        "\n",
        "Für die weiterführende Datenanalyse werden ausschliesslich Flugverspätungen der American Airlines (AA) berücksichtigt, während alle übrigen Zeilen aus dem Datensatz entfernt werden. Zudem wird der Datensatz der grössten Flughäfen nach Passagieraufkommen zwischen 2016 und 2020 mit den IATA-Codes der Abflug- und Ankunftsorte abgeglichen. Die Passagierzahlen pro Flughafen werden in einer zusätzlichen Spalte dem Datensatz der Flugverspätungen hinzugefügt.\n"
      ],
      "metadata": {
        "id": "gCW9DRn8Khq-"
      }
    },
    {
      "cell_type": "code",
      "source": [
        "#code"
      ],
      "metadata": {
        "id": "ZIp79YjOK0FO"
      },
      "execution_count": null,
      "outputs": []
    },
    {
      "cell_type": "markdown",
      "source": [
        "## 3.4 Datenmodellierung"
      ],
      "metadata": {
        "id": "xVZirmABK-bN"
      }
    },
    {
      "cell_type": "markdown",
      "source": [
        "# 4 Daten analysieren\n",
        "Im Zentrum der Datenanalyse stehen \"Descriptive\", \"Diagnostic\" und \"Predictive Analytics\" im Vordergrund.\n",
        "Die beschreibende Analyse bezieht sich hauptsächlich die Analyse historischer Daten, um vergangene Ereignisse zu verstehen. Ziel ist es Muster und Trends in den Daten zu identifizieren. Übliche Methoden sind Mittelwerte, Standardabweichungen, minimale und maximale Werte, Korrelationen und Kreuztabellen. Für die Visualisierung werden Dashboards und Diagramme oder sogenannte Heatmaps erstellt. Mit \"Diagnostic Analytics\" wird einen Schritt weiter gegangen und versucht die Ursachen für bestimmte Ereignisse oder Trends zu identifizieren. Hierbei werden zusätzliche Techniken wie sogenannte \"Drill-Down-Analysen\", Korrelationen und Hypothesentests durchgeführt.\n",
        "\"Predictive Analytics\" nutzt historische Daten und statistische Modelle, um zukünftige Ereignisse vorherzusagen. Dabei werden Instrumente wie maschinelles Lernen, Regressionsmodelle und Zeitreihenanalysen durchgeführt (Rashedi, 2024).\n",
        "\n",
        "## 4.1 Untergeordneten Fragestellungen inkl. Code\n",
        "\n",
        "Fragestellung: Gibt es bestimmte Wochentage oder Tageszeiten mit besonders vielen Verspätungen? Sind Wochenendflüge pünktlicher als Flüge unter der Woche?\n",
        "\n",
        "\n"
      ],
      "metadata": {
        "id": "zLSeq6UDKyp8"
      }
    },
    {
      "cell_type": "markdown",
      "source": [
        "# Literaturverzeichnis\n",
        "Interanational, B. (2014, Dezember 11). *Airline Customer Experience*. B2B International. https://www.b2binternational.de/airline-customer-experience-ein-lacheln-kostet-nichts/)\n",
        "\n",
        "Kaggle. (o. J.). Kaggle: Your Machine Learning and Data Science Community. Abgerufen am 31. März 2024, von https://www.kaggle.com/\n",
        "\n",
        "Marr, B. (2020). From data to decisions: A five-step approach to data-driven decision-making. CPA Management Accounting Guideline.\n",
        "\n",
        "Rashedi, J. (2024). Customer Analytics. In J. Rashedi, Customer Insights (S. 65–97). Springer Fachmedien Wiesbaden. https://doi.org/10.1007/978-3-658-43392-5_5\n"
      ],
      "metadata": {
        "id": "96MrtvoLK4cV"
      }
    }
  ],
  "metadata": {
    "colab": {
      "provenance": []
    },
    "kernelspec": {
      "display_name": "Python 3",
      "name": "python3"
    },
    "language_info": {
      "codemirror_mode": {
        "name": "ipython",
        "version": 3
      },
      "file_extension": ".py",
      "mimetype": "text/x-python",
      "name": "python",
      "nbconvert_exporter": "python",
      "pygments_lexer": "ipython3",
      "version": "3.13.2"
    }
  },
  "nbformat": 4,
  "nbformat_minor": 0
}