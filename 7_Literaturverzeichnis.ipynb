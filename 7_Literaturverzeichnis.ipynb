{
  "nbformat": 4,
  "nbformat_minor": 0,
  "metadata": {
    "colab": {
      "provenance": [],
      "authorship_tag": "ABX9TyNPXtVNCvVT0TZpjT3/QsZr",
      "include_colab_link": true
    },
    "kernelspec": {
      "name": "python3",
      "display_name": "Python 3"
    },
    "language_info": {
      "name": "python"
    }
  },
  "cells": [
    {
      "cell_type": "markdown",
      "metadata": {
        "id": "view-in-github",
        "colab_type": "text"
      },
      "source": [
        "<a href=\"https://colab.research.google.com/github/DivinitasMaxima/BINA-REPO/blob/main/7_Literaturverzeichnis.ipynb\" target=\"_parent\"><img src=\"https://colab.research.google.com/assets/colab-badge.svg\" alt=\"Open In Colab\"/></a>"
      ]
    },
    {
      "cell_type": "markdown",
      "source": [
        "<h1 style=\"color: black; text-align: left;\"><b>7. Literaturverzeichnis</b></h2>\n",
        "\n",
        "*   Interanational, B. (2014, Dezember 11). Airline Customer Experience. B2B International. https://www.b2binternational.de/airline-customer-experience-ein-lacheln-kostet-nichts/)\n",
        "*   Kaggle. (o. J.). Kaggle: Your Machine Learning and Data Science Community. Abgerufen am 31. März 2024, von https://www.kaggle.com/\n",
        "*   Marr, B. (2020). From data to decisions: A five-step approach to data-driven decision-making. CPA Management Accounting Guideline.\n",
        "*   Rashedi, J. (2024). Customer Analytics. In J. Rashedi, Customer Insights (S. 65–97). Springer Fachmedien Wiesbaden. https://doi.org/10.1007/978-3-658-43392-5_5\n"
      ],
      "metadata": {
        "id": "3KsXnBXkcC77"
      }
    }
  ]
}